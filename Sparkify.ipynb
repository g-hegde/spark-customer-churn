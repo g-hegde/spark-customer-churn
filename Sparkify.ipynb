{
 "cells": [
  {
   "cell_type": "markdown",
   "metadata": {},
   "source": [
    "## Project Overview\n",
    "\n",
    "Churn is a problem that companies face on a regular basis. Customers may drop a service for a variety of reasons. They may find competitors better. They may find cost prohibitive. They may simply forget to renew a subscription. Whatever the reason may be, customer churn is an undesirable aspect of doing business and companies like to avoid it. \n",
    "\n",
    "\n",
    "In this project, a fictional music app called Sparkify is set up with user data. The aim in this project is to use customer data to create a predictive model of customer churn in the Spark big-data framework. If companies are able to utilize customer-usage data and find patterns in them and map them accurately to indicate which customers might churn, they could, in principle, incentivize customers to stay with them. Finding such patterns could also be useful from the perspective of targeted advertising - customers demographics with advantageous average behavior can be targeted for advertising with hopes of better returns than blanket advertising."
   ]
  },
  {
   "cell_type": "markdown",
   "metadata": {},
   "source": [
    "## Problem Statement, Solution Strategy and Expected Result\n",
    "\n",
    "Using Spark and associated libraries and customer data for Sparkify, a fictitious music app, create and validate a predictive model for customer churn. The strategy for solving this problem is broadly speaking as follows - Churn is defined as an existing customer cancelling a subscription. Having defined churn, differences in customer demographic (location, gender) and usage (time spent, engagement) between groups of customers that churn versus those that don't churn are explored. The <i>a priori</i> expectation is that some of these features will reveal a substantial difference between customers that churn versus those that don't. This information is used to create useful features for a classification model for churn. A simple model with a minimum number of features that can easily be interpreted is first attempted and is optimized for performance. If the need arises, more complicated features involving usage statistics on a per-customer level will be designed and used for machine learning."
   ]
  },
  {
   "cell_type": "markdown",
   "metadata": {},
   "source": [
    "## Metrics\n",
    "\n",
    " The classification model is evaluated using standard metrics for binary output data - accuracy and F1-score. F1-score is given greater importance from an interpretation perspective due to imbalanced nature of the output data (significantly fewer customers churn than don't)."
   ]
  },
  {
   "cell_type": "code",
   "execution_count": 1,
   "metadata": {},
   "outputs": [],
   "source": [
    "# Import required libraries\n",
    "import time\n",
    "from pyspark.sql import SparkSession\n",
    "from pyspark.sql.types import ArrayType, IntegerType, FloatType, DoubleType, Row, DateType, StringType\n",
    "from pyspark.ml.linalg import SparseVector, DenseVector\n",
    "\n",
    "from pyspark.sql.functions import when, col, desc, min, max, sum, split, udf, count, \\\n",
    "                                  rand, isnan, isnull, from_unixtime, datediff,\\\n",
    "                                  to_date, lit, current_date\n",
    "\n",
    "from pyspark.ml.feature import Bucketizer\n",
    "from pyspark.ml.classification import RandomForestClassifier, LogisticRegression, GBTClassifier\n",
    "from pyspark.ml.evaluation import MulticlassClassificationEvaluator\n",
    "from pyspark.ml.feature import StringIndexer, VectorAssembler\n",
    "from pyspark.ml.tuning import CrossValidator, ParamGridBuilder\n",
    "from pyspark.ml import Pipeline\n",
    "\n",
    "import datetime\n",
    "\n",
    "import matplotlib.pyplot as plt\n",
    "%matplotlib inline\n",
    "import seaborn as sns\n",
    "import pandas as pd\n",
    "\n",
    "# First create a Spark session\n",
    "spark = SparkSession \\\n",
    "    .builder \\\n",
    "    .appName(\"Predict Churn for Sparkify\") \\\n",
    "    .getOrCreate()\n",
    "\n",
    "df_sparkify = spark.read.json('mini_sparkify_event_data.json')"
   ]
  },
  {
   "cell_type": "markdown",
   "metadata": {},
   "source": [
    "# Data Exploration\n",
    "As of the first attempt, data exploration is done chiefly using pandas, not Spark. The reason for this is the speed vs. scalability tradeoff for this dataset. The exploratory dataset is small enough to be efficiently explored in pandas. All further code involving data-munging, transformation, feature creation and machine learning are done within Spark."
   ]
  },
  {
   "cell_type": "code",
   "execution_count": 2,
   "metadata": {},
   "outputs": [
    {
     "name": "stdout",
     "output_type": "stream",
     "text": [
      "root\n",
      " |-- artist: string (nullable = true)\n",
      " |-- auth: string (nullable = true)\n",
      " |-- firstName: string (nullable = true)\n",
      " |-- gender: string (nullable = true)\n",
      " |-- itemInSession: long (nullable = true)\n",
      " |-- lastName: string (nullable = true)\n",
      " |-- length: double (nullable = true)\n",
      " |-- level: string (nullable = true)\n",
      " |-- location: string (nullable = true)\n",
      " |-- method: string (nullable = true)\n",
      " |-- page: string (nullable = true)\n",
      " |-- registration: long (nullable = true)\n",
      " |-- sessionId: long (nullable = true)\n",
      " |-- song: string (nullable = true)\n",
      " |-- status: long (nullable = true)\n",
      " |-- ts: long (nullable = true)\n",
      " |-- userAgent: string (nullable = true)\n",
      " |-- userId: string (nullable = true)\n",
      "\n"
     ]
    }
   ],
   "source": [
    "# Check columns and types\n",
    "df_sparkify.printSchema()"
   ]
  },
  {
   "cell_type": "code",
   "execution_count": 3,
   "metadata": {},
   "outputs": [
    {
     "name": "stdout",
     "output_type": "stream",
     "text": [
      "+----------------+---------+---------+------+-------------+--------+---------+-----+--------------------+------+--------+-------------+---------+--------------------+------+-------------+--------------------+------+\n",
      "|          artist|     auth|firstName|gender|itemInSession|lastName|   length|level|            location|method|    page| registration|sessionId|                song|status|           ts|           userAgent|userId|\n",
      "+----------------+---------+---------+------+-------------+--------+---------+-----+--------------------+------+--------+-------------+---------+--------------------+------+-------------+--------------------+------+\n",
      "|  Martha Tilston|Logged In|    Colin|     M|           50| Freeman|277.89016| paid|     Bakersfield, CA|   PUT|NextSong|1538173362000|       29|           Rockpools|   200|1538352117000|Mozilla/5.0 (Wind...|    30|\n",
      "|Five Iron Frenzy|Logged In|    Micah|     M|           79|    Long|236.09424| free|Boston-Cambridge-...|   PUT|NextSong|1538331630000|        8|              Canada|   200|1538352180000|\"Mozilla/5.0 (Win...|     9|\n",
      "|    Adam Lambert|Logged In|    Colin|     M|           51| Freeman| 282.8273| paid|     Bakersfield, CA|   PUT|NextSong|1538173362000|       29|   Time For Miracles|   200|1538352394000|Mozilla/5.0 (Wind...|    30|\n",
      "|          Enigma|Logged In|    Micah|     M|           80|    Long|262.71302| free|Boston-Cambridge-...|   PUT|NextSong|1538331630000|        8|Knocking On Forbi...|   200|1538352416000|\"Mozilla/5.0 (Win...|     9|\n",
      "|       Daft Punk|Logged In|    Colin|     M|           52| Freeman|223.60771| paid|     Bakersfield, CA|   PUT|NextSong|1538173362000|       29|Harder Better Fas...|   200|1538352676000|Mozilla/5.0 (Wind...|    30|\n",
      "+----------------+---------+---------+------+-------------+--------+---------+-----+--------------------+------+--------+-------------+---------+--------------------+------+-------------+--------------------+------+\n",
      "only showing top 5 rows\n",
      "\n"
     ]
    }
   ],
   "source": [
    "# Print out the first five rows to get a snapshot into the data\n",
    "df_sparkify.show(5)"
   ]
  },
  {
   "cell_type": "code",
   "execution_count": 4,
   "metadata": {},
   "outputs": [],
   "source": [
    "pdf = df_sparkify.toPandas() # pdf  = alias for pandas dataframe"
   ]
  },
  {
   "cell_type": "code",
   "execution_count": 5,
   "metadata": {},
   "outputs": [
    {
     "data": {
      "text/plain": [
       "(286500, 18)"
      ]
     },
     "execution_count": 5,
     "metadata": {},
     "output_type": "execute_result"
    }
   ],
   "source": [
    "# Check size of data\n",
    "pdf.shape"
   ]
  },
  {
   "cell_type": "code",
   "execution_count": 6,
   "metadata": {},
   "outputs": [
    {
     "data": {
      "text/plain": [
       "artist           58392\n",
       "auth                 0\n",
       "firstName         8346\n",
       "gender            8346\n",
       "itemInSession        0\n",
       "lastName          8346\n",
       "length           58392\n",
       "level                0\n",
       "location          8346\n",
       "method               0\n",
       "page                 0\n",
       "registration      8346\n",
       "sessionId            0\n",
       "song             58392\n",
       "status               0\n",
       "ts                   0\n",
       "userAgent         8346\n",
       "userId               0\n",
       "dtype: int64"
      ]
     },
     "execution_count": 6,
     "metadata": {},
     "output_type": "execute_result"
    }
   ],
   "source": [
    "# Check for the presence of Null values\n",
    "pdf.isnull().sum()"
   ]
  },
  {
   "cell_type": "markdown",
   "metadata": {},
   "source": [
    "Artist, length and song null values seem to be correlated. First name, Gender, Last Name, Location and Registration and user Agent seem to also be correlated in terms of having null values. Let's explore the correlation a bit more."
   ]
  },
  {
   "cell_type": "code",
   "execution_count": 7,
   "metadata": {
    "scrolled": true
   },
   "outputs": [
    {
     "data": {
      "text/html": [
       "<div>\n",
       "<style scoped>\n",
       "    .dataframe tbody tr th:only-of-type {\n",
       "        vertical-align: middle;\n",
       "    }\n",
       "\n",
       "    .dataframe tbody tr th {\n",
       "        vertical-align: top;\n",
       "    }\n",
       "\n",
       "    .dataframe thead th {\n",
       "        text-align: right;\n",
       "    }\n",
       "</style>\n",
       "<table border=\"1\" class=\"dataframe\">\n",
       "  <thead>\n",
       "    <tr style=\"text-align: right;\">\n",
       "      <th></th>\n",
       "      <th>artist</th>\n",
       "      <th>auth</th>\n",
       "      <th>firstName</th>\n",
       "      <th>gender</th>\n",
       "      <th>itemInSession</th>\n",
       "      <th>lastName</th>\n",
       "      <th>length</th>\n",
       "      <th>level</th>\n",
       "      <th>location</th>\n",
       "      <th>method</th>\n",
       "      <th>page</th>\n",
       "      <th>registration</th>\n",
       "      <th>sessionId</th>\n",
       "      <th>song</th>\n",
       "      <th>status</th>\n",
       "      <th>ts</th>\n",
       "      <th>userAgent</th>\n",
       "      <th>userId</th>\n",
       "    </tr>\n",
       "  </thead>\n",
       "  <tbody>\n",
       "    <tr>\n",
       "      <th>8</th>\n",
       "      <td>None</td>\n",
       "      <td>Logged In</td>\n",
       "      <td>Colin</td>\n",
       "      <td>M</td>\n",
       "      <td>54</td>\n",
       "      <td>Freeman</td>\n",
       "      <td>NaN</td>\n",
       "      <td>paid</td>\n",
       "      <td>Bakersfield, CA</td>\n",
       "      <td>PUT</td>\n",
       "      <td>Add to Playlist</td>\n",
       "      <td>1.538173e+12</td>\n",
       "      <td>29</td>\n",
       "      <td>None</td>\n",
       "      <td>200</td>\n",
       "      <td>1538352905000</td>\n",
       "      <td>Mozilla/5.0 (Windows NT 6.1; WOW64; rv:31.0) G...</td>\n",
       "      <td>30</td>\n",
       "    </tr>\n",
       "    <tr>\n",
       "      <th>11</th>\n",
       "      <td>None</td>\n",
       "      <td>Logged In</td>\n",
       "      <td>Micah</td>\n",
       "      <td>M</td>\n",
       "      <td>84</td>\n",
       "      <td>Long</td>\n",
       "      <td>NaN</td>\n",
       "      <td>free</td>\n",
       "      <td>Boston-Cambridge-Newton, MA-NH</td>\n",
       "      <td>GET</td>\n",
       "      <td>Roll Advert</td>\n",
       "      <td>1.538332e+12</td>\n",
       "      <td>8</td>\n",
       "      <td>None</td>\n",
       "      <td>200</td>\n",
       "      <td>1538353150000</td>\n",
       "      <td>\"Mozilla/5.0 (Windows NT 6.1; WOW64) AppleWebK...</td>\n",
       "      <td>9</td>\n",
       "    </tr>\n",
       "    <tr>\n",
       "      <th>14</th>\n",
       "      <td>None</td>\n",
       "      <td>Logged In</td>\n",
       "      <td>Micah</td>\n",
       "      <td>M</td>\n",
       "      <td>86</td>\n",
       "      <td>Long</td>\n",
       "      <td>NaN</td>\n",
       "      <td>free</td>\n",
       "      <td>Boston-Cambridge-Newton, MA-NH</td>\n",
       "      <td>PUT</td>\n",
       "      <td>Thumbs Up</td>\n",
       "      <td>1.538332e+12</td>\n",
       "      <td>8</td>\n",
       "      <td>None</td>\n",
       "      <td>307</td>\n",
       "      <td>1538353376000</td>\n",
       "      <td>\"Mozilla/5.0 (Windows NT 6.1; WOW64) AppleWebK...</td>\n",
       "      <td>9</td>\n",
       "    </tr>\n",
       "    <tr>\n",
       "      <th>35</th>\n",
       "      <td>None</td>\n",
       "      <td>Logged In</td>\n",
       "      <td>Alexi</td>\n",
       "      <td>F</td>\n",
       "      <td>4</td>\n",
       "      <td>Warren</td>\n",
       "      <td>NaN</td>\n",
       "      <td>paid</td>\n",
       "      <td>Spokane-Spokane Valley, WA</td>\n",
       "      <td>GET</td>\n",
       "      <td>Downgrade</td>\n",
       "      <td>1.532483e+12</td>\n",
       "      <td>53</td>\n",
       "      <td>None</td>\n",
       "      <td>200</td>\n",
       "      <td>1538354749000</td>\n",
       "      <td>Mozilla/5.0 (Windows NT 6.1; WOW64; rv:32.0) G...</td>\n",
       "      <td>54</td>\n",
       "    </tr>\n",
       "    <tr>\n",
       "      <th>44</th>\n",
       "      <td>None</td>\n",
       "      <td>Logged In</td>\n",
       "      <td>Alexi</td>\n",
       "      <td>F</td>\n",
       "      <td>7</td>\n",
       "      <td>Warren</td>\n",
       "      <td>NaN</td>\n",
       "      <td>paid</td>\n",
       "      <td>Spokane-Spokane Valley, WA</td>\n",
       "      <td>PUT</td>\n",
       "      <td>Thumbs Up</td>\n",
       "      <td>1.532483e+12</td>\n",
       "      <td>53</td>\n",
       "      <td>None</td>\n",
       "      <td>307</td>\n",
       "      <td>1538355255000</td>\n",
       "      <td>Mozilla/5.0 (Windows NT 6.1; WOW64; rv:32.0) G...</td>\n",
       "      <td>54</td>\n",
       "    </tr>\n",
       "    <tr>\n",
       "      <th>47</th>\n",
       "      <td>None</td>\n",
       "      <td>Logged In</td>\n",
       "      <td>Micah</td>\n",
       "      <td>M</td>\n",
       "      <td>95</td>\n",
       "      <td>Long</td>\n",
       "      <td>NaN</td>\n",
       "      <td>free</td>\n",
       "      <td>Boston-Cambridge-Newton, MA-NH</td>\n",
       "      <td>PUT</td>\n",
       "      <td>Thumbs Down</td>\n",
       "      <td>1.538332e+12</td>\n",
       "      <td>8</td>\n",
       "      <td>None</td>\n",
       "      <td>307</td>\n",
       "      <td>1538355306000</td>\n",
       "      <td>\"Mozilla/5.0 (Windows NT 6.1; WOW64) AppleWebK...</td>\n",
       "      <td>9</td>\n",
       "    </tr>\n",
       "    <tr>\n",
       "      <th>51</th>\n",
       "      <td>None</td>\n",
       "      <td>Logged In</td>\n",
       "      <td>Micah</td>\n",
       "      <td>M</td>\n",
       "      <td>97</td>\n",
       "      <td>Long</td>\n",
       "      <td>NaN</td>\n",
       "      <td>free</td>\n",
       "      <td>Boston-Cambridge-Newton, MA-NH</td>\n",
       "      <td>GET</td>\n",
       "      <td>Home</td>\n",
       "      <td>1.538332e+12</td>\n",
       "      <td>8</td>\n",
       "      <td>None</td>\n",
       "      <td>200</td>\n",
       "      <td>1538355504000</td>\n",
       "      <td>\"Mozilla/5.0 (Windows NT 6.1; WOW64) AppleWebK...</td>\n",
       "      <td>9</td>\n",
       "    </tr>\n",
       "    <tr>\n",
       "      <th>53</th>\n",
       "      <td>None</td>\n",
       "      <td>Logged In</td>\n",
       "      <td>Micah</td>\n",
       "      <td>M</td>\n",
       "      <td>99</td>\n",
       "      <td>Long</td>\n",
       "      <td>NaN</td>\n",
       "      <td>free</td>\n",
       "      <td>Boston-Cambridge-Newton, MA-NH</td>\n",
       "      <td>PUT</td>\n",
       "      <td>Logout</td>\n",
       "      <td>1.538332e+12</td>\n",
       "      <td>8</td>\n",
       "      <td>None</td>\n",
       "      <td>307</td>\n",
       "      <td>1538355687000</td>\n",
       "      <td>\"Mozilla/5.0 (Windows NT 6.1; WOW64) AppleWebK...</td>\n",
       "      <td>9</td>\n",
       "    </tr>\n",
       "    <tr>\n",
       "      <th>56</th>\n",
       "      <td>None</td>\n",
       "      <td>Logged In</td>\n",
       "      <td>Ashlynn</td>\n",
       "      <td>F</td>\n",
       "      <td>9</td>\n",
       "      <td>Williams</td>\n",
       "      <td>NaN</td>\n",
       "      <td>free</td>\n",
       "      <td>Tallahassee, FL</td>\n",
       "      <td>PUT</td>\n",
       "      <td>Thumbs Up</td>\n",
       "      <td>1.537365e+12</td>\n",
       "      <td>217</td>\n",
       "      <td>None</td>\n",
       "      <td>307</td>\n",
       "      <td>1538355711000</td>\n",
       "      <td>\"Mozilla/5.0 (Macintosh; Intel Mac OS X 10_9_4...</td>\n",
       "      <td>74</td>\n",
       "    </tr>\n",
       "    <tr>\n",
       "      <th>57</th>\n",
       "      <td>None</td>\n",
       "      <td>Logged Out</td>\n",
       "      <td>None</td>\n",
       "      <td>None</td>\n",
       "      <td>100</td>\n",
       "      <td>None</td>\n",
       "      <td>NaN</td>\n",
       "      <td>free</td>\n",
       "      <td>None</td>\n",
       "      <td>GET</td>\n",
       "      <td>Home</td>\n",
       "      <td>NaN</td>\n",
       "      <td>8</td>\n",
       "      <td>None</td>\n",
       "      <td>200</td>\n",
       "      <td>1538355745000</td>\n",
       "      <td>None</td>\n",
       "      <td></td>\n",
       "    </tr>\n",
       "  </tbody>\n",
       "</table>\n",
       "</div>"
      ],
      "text/plain": [
       "   artist        auth firstName gender  itemInSession  lastName  length level  \\\n",
       "8    None   Logged In     Colin      M             54   Freeman     NaN  paid   \n",
       "11   None   Logged In     Micah      M             84      Long     NaN  free   \n",
       "14   None   Logged In     Micah      M             86      Long     NaN  free   \n",
       "35   None   Logged In     Alexi      F              4    Warren     NaN  paid   \n",
       "44   None   Logged In     Alexi      F              7    Warren     NaN  paid   \n",
       "47   None   Logged In     Micah      M             95      Long     NaN  free   \n",
       "51   None   Logged In     Micah      M             97      Long     NaN  free   \n",
       "53   None   Logged In     Micah      M             99      Long     NaN  free   \n",
       "56   None   Logged In   Ashlynn      F              9  Williams     NaN  free   \n",
       "57   None  Logged Out      None   None            100      None     NaN  free   \n",
       "\n",
       "                          location method             page  registration  \\\n",
       "8                  Bakersfield, CA    PUT  Add to Playlist  1.538173e+12   \n",
       "11  Boston-Cambridge-Newton, MA-NH    GET      Roll Advert  1.538332e+12   \n",
       "14  Boston-Cambridge-Newton, MA-NH    PUT        Thumbs Up  1.538332e+12   \n",
       "35      Spokane-Spokane Valley, WA    GET        Downgrade  1.532483e+12   \n",
       "44      Spokane-Spokane Valley, WA    PUT        Thumbs Up  1.532483e+12   \n",
       "47  Boston-Cambridge-Newton, MA-NH    PUT      Thumbs Down  1.538332e+12   \n",
       "51  Boston-Cambridge-Newton, MA-NH    GET             Home  1.538332e+12   \n",
       "53  Boston-Cambridge-Newton, MA-NH    PUT           Logout  1.538332e+12   \n",
       "56                 Tallahassee, FL    PUT        Thumbs Up  1.537365e+12   \n",
       "57                            None    GET             Home           NaN   \n",
       "\n",
       "    sessionId  song  status             ts  \\\n",
       "8          29  None     200  1538352905000   \n",
       "11          8  None     200  1538353150000   \n",
       "14          8  None     307  1538353376000   \n",
       "35         53  None     200  1538354749000   \n",
       "44         53  None     307  1538355255000   \n",
       "47          8  None     307  1538355306000   \n",
       "51          8  None     200  1538355504000   \n",
       "53          8  None     307  1538355687000   \n",
       "56        217  None     307  1538355711000   \n",
       "57          8  None     200  1538355745000   \n",
       "\n",
       "                                            userAgent userId  \n",
       "8   Mozilla/5.0 (Windows NT 6.1; WOW64; rv:31.0) G...     30  \n",
       "11  \"Mozilla/5.0 (Windows NT 6.1; WOW64) AppleWebK...      9  \n",
       "14  \"Mozilla/5.0 (Windows NT 6.1; WOW64) AppleWebK...      9  \n",
       "35  Mozilla/5.0 (Windows NT 6.1; WOW64; rv:32.0) G...     54  \n",
       "44  Mozilla/5.0 (Windows NT 6.1; WOW64; rv:32.0) G...     54  \n",
       "47  \"Mozilla/5.0 (Windows NT 6.1; WOW64) AppleWebK...      9  \n",
       "51  \"Mozilla/5.0 (Windows NT 6.1; WOW64) AppleWebK...      9  \n",
       "53  \"Mozilla/5.0 (Windows NT 6.1; WOW64) AppleWebK...      9  \n",
       "56  \"Mozilla/5.0 (Macintosh; Intel Mac OS X 10_9_4...     74  \n",
       "57                                               None         "
      ]
     },
     "execution_count": 7,
     "metadata": {},
     "output_type": "execute_result"
    }
   ],
   "source": [
    "pdf[pdf['artist'].isnull()].head(10)"
   ]
  },
  {
   "cell_type": "code",
   "execution_count": 8,
   "metadata": {},
   "outputs": [
    {
     "data": {
      "text/html": [
       "<div>\n",
       "<style scoped>\n",
       "    .dataframe tbody tr th:only-of-type {\n",
       "        vertical-align: middle;\n",
       "    }\n",
       "\n",
       "    .dataframe tbody tr th {\n",
       "        vertical-align: top;\n",
       "    }\n",
       "\n",
       "    .dataframe thead th {\n",
       "        text-align: right;\n",
       "    }\n",
       "</style>\n",
       "<table border=\"1\" class=\"dataframe\">\n",
       "  <thead>\n",
       "    <tr style=\"text-align: right;\">\n",
       "      <th></th>\n",
       "      <th>artist</th>\n",
       "      <th>auth</th>\n",
       "      <th>firstName</th>\n",
       "      <th>gender</th>\n",
       "      <th>itemInSession</th>\n",
       "      <th>lastName</th>\n",
       "      <th>length</th>\n",
       "      <th>level</th>\n",
       "      <th>location</th>\n",
       "      <th>method</th>\n",
       "      <th>page</th>\n",
       "      <th>registration</th>\n",
       "      <th>sessionId</th>\n",
       "      <th>song</th>\n",
       "      <th>status</th>\n",
       "      <th>ts</th>\n",
       "      <th>userAgent</th>\n",
       "      <th>userId</th>\n",
       "    </tr>\n",
       "  </thead>\n",
       "  <tbody>\n",
       "    <tr>\n",
       "      <th>57</th>\n",
       "      <td>None</td>\n",
       "      <td>Logged Out</td>\n",
       "      <td>None</td>\n",
       "      <td>None</td>\n",
       "      <td>100</td>\n",
       "      <td>None</td>\n",
       "      <td>NaN</td>\n",
       "      <td>free</td>\n",
       "      <td>None</td>\n",
       "      <td>GET</td>\n",
       "      <td>Home</td>\n",
       "      <td>NaN</td>\n",
       "      <td>8</td>\n",
       "      <td>None</td>\n",
       "      <td>200</td>\n",
       "      <td>1538355745000</td>\n",
       "      <td>None</td>\n",
       "      <td></td>\n",
       "    </tr>\n",
       "    <tr>\n",
       "      <th>58</th>\n",
       "      <td>None</td>\n",
       "      <td>Logged Out</td>\n",
       "      <td>None</td>\n",
       "      <td>None</td>\n",
       "      <td>101</td>\n",
       "      <td>None</td>\n",
       "      <td>NaN</td>\n",
       "      <td>free</td>\n",
       "      <td>None</td>\n",
       "      <td>GET</td>\n",
       "      <td>Help</td>\n",
       "      <td>NaN</td>\n",
       "      <td>8</td>\n",
       "      <td>None</td>\n",
       "      <td>200</td>\n",
       "      <td>1538355807000</td>\n",
       "      <td>None</td>\n",
       "      <td></td>\n",
       "    </tr>\n",
       "    <tr>\n",
       "      <th>59</th>\n",
       "      <td>None</td>\n",
       "      <td>Logged Out</td>\n",
       "      <td>None</td>\n",
       "      <td>None</td>\n",
       "      <td>102</td>\n",
       "      <td>None</td>\n",
       "      <td>NaN</td>\n",
       "      <td>free</td>\n",
       "      <td>None</td>\n",
       "      <td>GET</td>\n",
       "      <td>Home</td>\n",
       "      <td>NaN</td>\n",
       "      <td>8</td>\n",
       "      <td>None</td>\n",
       "      <td>200</td>\n",
       "      <td>1538355841000</td>\n",
       "      <td>None</td>\n",
       "      <td></td>\n",
       "    </tr>\n",
       "    <tr>\n",
       "      <th>60</th>\n",
       "      <td>None</td>\n",
       "      <td>Logged Out</td>\n",
       "      <td>None</td>\n",
       "      <td>None</td>\n",
       "      <td>103</td>\n",
       "      <td>None</td>\n",
       "      <td>NaN</td>\n",
       "      <td>free</td>\n",
       "      <td>None</td>\n",
       "      <td>PUT</td>\n",
       "      <td>Login</td>\n",
       "      <td>NaN</td>\n",
       "      <td>8</td>\n",
       "      <td>None</td>\n",
       "      <td>307</td>\n",
       "      <td>1538355842000</td>\n",
       "      <td>None</td>\n",
       "      <td></td>\n",
       "    </tr>\n",
       "    <tr>\n",
       "      <th>76</th>\n",
       "      <td>None</td>\n",
       "      <td>Logged Out</td>\n",
       "      <td>None</td>\n",
       "      <td>None</td>\n",
       "      <td>2</td>\n",
       "      <td>None</td>\n",
       "      <td>NaN</td>\n",
       "      <td>free</td>\n",
       "      <td>None</td>\n",
       "      <td>GET</td>\n",
       "      <td>Home</td>\n",
       "      <td>NaN</td>\n",
       "      <td>240</td>\n",
       "      <td>None</td>\n",
       "      <td>200</td>\n",
       "      <td>1538356678000</td>\n",
       "      <td>None</td>\n",
       "      <td></td>\n",
       "    </tr>\n",
       "    <tr>\n",
       "      <th>77</th>\n",
       "      <td>None</td>\n",
       "      <td>Logged Out</td>\n",
       "      <td>None</td>\n",
       "      <td>None</td>\n",
       "      <td>3</td>\n",
       "      <td>None</td>\n",
       "      <td>NaN</td>\n",
       "      <td>free</td>\n",
       "      <td>None</td>\n",
       "      <td>PUT</td>\n",
       "      <td>Login</td>\n",
       "      <td>NaN</td>\n",
       "      <td>240</td>\n",
       "      <td>None</td>\n",
       "      <td>307</td>\n",
       "      <td>1538356679000</td>\n",
       "      <td>None</td>\n",
       "      <td></td>\n",
       "    </tr>\n",
       "    <tr>\n",
       "      <th>110</th>\n",
       "      <td>None</td>\n",
       "      <td>Logged Out</td>\n",
       "      <td>None</td>\n",
       "      <td>None</td>\n",
       "      <td>0</td>\n",
       "      <td>None</td>\n",
       "      <td>NaN</td>\n",
       "      <td>free</td>\n",
       "      <td>None</td>\n",
       "      <td>PUT</td>\n",
       "      <td>Login</td>\n",
       "      <td>NaN</td>\n",
       "      <td>100</td>\n",
       "      <td>None</td>\n",
       "      <td>307</td>\n",
       "      <td>1538358102000</td>\n",
       "      <td>None</td>\n",
       "      <td></td>\n",
       "    </tr>\n",
       "    <tr>\n",
       "      <th>146</th>\n",
       "      <td>None</td>\n",
       "      <td>Logged Out</td>\n",
       "      <td>None</td>\n",
       "      <td>None</td>\n",
       "      <td>0</td>\n",
       "      <td>None</td>\n",
       "      <td>NaN</td>\n",
       "      <td>free</td>\n",
       "      <td>None</td>\n",
       "      <td>PUT</td>\n",
       "      <td>Login</td>\n",
       "      <td>NaN</td>\n",
       "      <td>241</td>\n",
       "      <td>None</td>\n",
       "      <td>307</td>\n",
       "      <td>1538360117000</td>\n",
       "      <td>None</td>\n",
       "      <td></td>\n",
       "    </tr>\n",
       "    <tr>\n",
       "      <th>183</th>\n",
       "      <td>None</td>\n",
       "      <td>Logged Out</td>\n",
       "      <td>None</td>\n",
       "      <td>None</td>\n",
       "      <td>14</td>\n",
       "      <td>None</td>\n",
       "      <td>NaN</td>\n",
       "      <td>free</td>\n",
       "      <td>None</td>\n",
       "      <td>GET</td>\n",
       "      <td>Home</td>\n",
       "      <td>NaN</td>\n",
       "      <td>187</td>\n",
       "      <td>None</td>\n",
       "      <td>200</td>\n",
       "      <td>1538361527000</td>\n",
       "      <td>None</td>\n",
       "      <td></td>\n",
       "    </tr>\n",
       "    <tr>\n",
       "      <th>184</th>\n",
       "      <td>None</td>\n",
       "      <td>Logged Out</td>\n",
       "      <td>None</td>\n",
       "      <td>None</td>\n",
       "      <td>15</td>\n",
       "      <td>None</td>\n",
       "      <td>NaN</td>\n",
       "      <td>free</td>\n",
       "      <td>None</td>\n",
       "      <td>PUT</td>\n",
       "      <td>Login</td>\n",
       "      <td>NaN</td>\n",
       "      <td>187</td>\n",
       "      <td>None</td>\n",
       "      <td>307</td>\n",
       "      <td>1538361528000</td>\n",
       "      <td>None</td>\n",
       "      <td></td>\n",
       "    </tr>\n",
       "  </tbody>\n",
       "</table>\n",
       "</div>"
      ],
      "text/plain": [
       "    artist        auth firstName gender  itemInSession lastName  length level  \\\n",
       "57    None  Logged Out      None   None            100     None     NaN  free   \n",
       "58    None  Logged Out      None   None            101     None     NaN  free   \n",
       "59    None  Logged Out      None   None            102     None     NaN  free   \n",
       "60    None  Logged Out      None   None            103     None     NaN  free   \n",
       "76    None  Logged Out      None   None              2     None     NaN  free   \n",
       "77    None  Logged Out      None   None              3     None     NaN  free   \n",
       "110   None  Logged Out      None   None              0     None     NaN  free   \n",
       "146   None  Logged Out      None   None              0     None     NaN  free   \n",
       "183   None  Logged Out      None   None             14     None     NaN  free   \n",
       "184   None  Logged Out      None   None             15     None     NaN  free   \n",
       "\n",
       "    location method   page  registration  sessionId  song  status  \\\n",
       "57      None    GET   Home           NaN          8  None     200   \n",
       "58      None    GET   Help           NaN          8  None     200   \n",
       "59      None    GET   Home           NaN          8  None     200   \n",
       "60      None    PUT  Login           NaN          8  None     307   \n",
       "76      None    GET   Home           NaN        240  None     200   \n",
       "77      None    PUT  Login           NaN        240  None     307   \n",
       "110     None    PUT  Login           NaN        100  None     307   \n",
       "146     None    PUT  Login           NaN        241  None     307   \n",
       "183     None    GET   Home           NaN        187  None     200   \n",
       "184     None    PUT  Login           NaN        187  None     307   \n",
       "\n",
       "                ts userAgent userId  \n",
       "57   1538355745000      None         \n",
       "58   1538355807000      None         \n",
       "59   1538355841000      None         \n",
       "60   1538355842000      None         \n",
       "76   1538356678000      None         \n",
       "77   1538356679000      None         \n",
       "110  1538358102000      None         \n",
       "146  1538360117000      None         \n",
       "183  1538361527000      None         \n",
       "184  1538361528000      None         "
      ]
     },
     "execution_count": 8,
     "metadata": {},
     "output_type": "execute_result"
    }
   ],
   "source": [
    "pdf[pdf['firstName'].isnull()].head(10)"
   ]
  },
  {
   "cell_type": "markdown",
   "metadata": {},
   "source": [
    "It appears that empty userID columns are of logged out users. Does the correlation hold the other way? Let's find out."
   ]
  },
  {
   "cell_type": "code",
   "execution_count": 9,
   "metadata": {},
   "outputs": [
    {
     "data": {
      "text/html": [
       "<div>\n",
       "<style scoped>\n",
       "    .dataframe tbody tr th:only-of-type {\n",
       "        vertical-align: middle;\n",
       "    }\n",
       "\n",
       "    .dataframe tbody tr th {\n",
       "        vertical-align: top;\n",
       "    }\n",
       "\n",
       "    .dataframe thead th {\n",
       "        text-align: right;\n",
       "    }\n",
       "</style>\n",
       "<table border=\"1\" class=\"dataframe\">\n",
       "  <thead>\n",
       "    <tr style=\"text-align: right;\">\n",
       "      <th></th>\n",
       "      <th>userId</th>\n",
       "    </tr>\n",
       "    <tr>\n",
       "      <th>auth</th>\n",
       "      <th></th>\n",
       "    </tr>\n",
       "  </thead>\n",
       "  <tbody>\n",
       "    <tr>\n",
       "      <th>Guest</th>\n",
       "      <td>97</td>\n",
       "    </tr>\n",
       "    <tr>\n",
       "      <th>Logged Out</th>\n",
       "      <td>8249</td>\n",
       "    </tr>\n",
       "  </tbody>\n",
       "</table>\n",
       "</div>"
      ],
      "text/plain": [
       "            userId\n",
       "auth              \n",
       "Guest           97\n",
       "Logged Out    8249"
      ]
     },
     "execution_count": 9,
     "metadata": {},
     "output_type": "execute_result"
    }
   ],
   "source": [
    "pdf[pdf['userId']==''][['auth','userId']].groupby('auth').count()"
   ]
  },
  {
   "cell_type": "markdown",
   "metadata": {},
   "source": [
    "Since we're interested in predictive analysis of churn in registered users (with assigned userIDs), we can safely filter out Guest and Logged Out users. As mentioned previously, data-wrangling can be done in Spark."
   ]
  },
  {
   "cell_type": "code",
   "execution_count": 10,
   "metadata": {},
   "outputs": [],
   "source": [
    "df_sparkify = df_sparkify.where(col('userId') != '')"
   ]
  },
  {
   "cell_type": "markdown",
   "metadata": {},
   "source": [
    "To verify that the filtering has indeed taken place, compare the previous version of the auth column with the new one."
   ]
  },
  {
   "cell_type": "code",
   "execution_count": 11,
   "metadata": {},
   "outputs": [
    {
     "data": {
      "text/plain": [
       "Logged In     278102\n",
       "Logged Out      8249\n",
       "Guest             97\n",
       "Cancelled         52\n",
       "Name: auth, dtype: int64"
      ]
     },
     "execution_count": 11,
     "metadata": {},
     "output_type": "execute_result"
    }
   ],
   "source": [
    "pdf['auth'].value_counts()"
   ]
  },
  {
   "cell_type": "code",
   "execution_count": 12,
   "metadata": {},
   "outputs": [
    {
     "name": "stdout",
     "output_type": "stream",
     "text": [
      "+---------+------+\n",
      "|     auth| count|\n",
      "+---------+------+\n",
      "|Cancelled|    52|\n",
      "|Logged In|278102|\n",
      "+---------+------+\n",
      "\n"
     ]
    }
   ],
   "source": [
    "df_sparkify.groupBy('auth').count().show()"
   ]
  },
  {
   "cell_type": "code",
   "execution_count": 13,
   "metadata": {},
   "outputs": [],
   "source": [
    "# Keep pdf up-to-date after filtering\n",
    "pdf = df_sparkify.toPandas()"
   ]
  },
  {
   "cell_type": "markdown",
   "metadata": {},
   "source": [
    "Let's explore the 'page' column and find out a little more about it."
   ]
  },
  {
   "cell_type": "code",
   "execution_count": 14,
   "metadata": {},
   "outputs": [
    {
     "data": {
      "text/plain": [
       "NextSong                     228108\n",
       "Thumbs Up                     12551\n",
       "Home                          10082\n",
       "Add to Playlist                6526\n",
       "Add Friend                     4277\n",
       "Roll Advert                    3933\n",
       "Logout                         3226\n",
       "Thumbs Down                    2546\n",
       "Downgrade                      2055\n",
       "Settings                       1514\n",
       "Help                           1454\n",
       "Upgrade                         499\n",
       "About                           495\n",
       "Save Settings                   310\n",
       "Error                           252\n",
       "Submit Upgrade                  159\n",
       "Submit Downgrade                 63\n",
       "Cancellation Confirmation        52\n",
       "Cancel                           52\n",
       "Name: page, dtype: int64"
      ]
     },
     "execution_count": 14,
     "metadata": {},
     "output_type": "execute_result"
    }
   ],
   "source": [
    "pdf['page'].value_counts()"
   ]
  },
  {
   "cell_type": "markdown",
   "metadata": {},
   "source": [
    "This does not necessarily obtain cancellation data at user level. So it might be useful to find how many distinct users cancelled. To do this, first compute the number of distinct users."
   ]
  },
  {
   "cell_type": "code",
   "execution_count": 15,
   "metadata": {},
   "outputs": [
    {
     "data": {
      "text/plain": [
       "225"
      ]
     },
     "execution_count": 15,
     "metadata": {},
     "output_type": "execute_result"
    }
   ],
   "source": [
    "len(pdf['userId'].value_counts().index)"
   ]
  },
  {
   "cell_type": "markdown",
   "metadata": {},
   "source": [
    "So there are 225 distinct users in the new dataset. Next, compute the number of cancellation-type events."
   ]
  },
  {
   "cell_type": "code",
   "execution_count": 16,
   "metadata": {},
   "outputs": [
    {
     "data": {
      "text/plain": [
       "104"
      ]
     },
     "execution_count": 16,
     "metadata": {},
     "output_type": "execute_result"
    }
   ],
   "source": [
    "len(pdf[(pdf['page']=='Cancel') | (pdf['page']=='Cancellation Confirmation')].index.unique())"
   ]
  },
  {
   "cell_type": "markdown",
   "metadata": {},
   "source": [
    "It is unclear if the 'Cancellation Confirmation' and 'Cancel' belong to distinct users."
   ]
  },
  {
   "cell_type": "code",
   "execution_count": 17,
   "metadata": {},
   "outputs": [
    {
     "data": {
      "text/html": [
       "<div>\n",
       "<style scoped>\n",
       "    .dataframe tbody tr th:only-of-type {\n",
       "        vertical-align: middle;\n",
       "    }\n",
       "\n",
       "    .dataframe tbody tr th {\n",
       "        vertical-align: top;\n",
       "    }\n",
       "\n",
       "    .dataframe thead th {\n",
       "        text-align: right;\n",
       "    }\n",
       "</style>\n",
       "<table border=\"1\" class=\"dataframe\">\n",
       "  <thead>\n",
       "    <tr style=\"text-align: right;\">\n",
       "      <th></th>\n",
       "      <th>userId</th>\n",
       "      <th>page</th>\n",
       "    </tr>\n",
       "  </thead>\n",
       "  <tbody>\n",
       "    <tr>\n",
       "      <th>19586</th>\n",
       "      <td>18</td>\n",
       "      <td>Cancel</td>\n",
       "    </tr>\n",
       "    <tr>\n",
       "      <th>19592</th>\n",
       "      <td>18</td>\n",
       "      <td>Cancellation Confirmation</td>\n",
       "    </tr>\n",
       "    <tr>\n",
       "      <th>23070</th>\n",
       "      <td>32</td>\n",
       "      <td>Cancel</td>\n",
       "    </tr>\n",
       "    <tr>\n",
       "      <th>23072</th>\n",
       "      <td>32</td>\n",
       "      <td>Cancellation Confirmation</td>\n",
       "    </tr>\n",
       "    <tr>\n",
       "      <th>36648</th>\n",
       "      <td>125</td>\n",
       "      <td>Cancel</td>\n",
       "    </tr>\n",
       "    <tr>\n",
       "      <th>36649</th>\n",
       "      <td>125</td>\n",
       "      <td>Cancellation Confirmation</td>\n",
       "    </tr>\n",
       "    <tr>\n",
       "      <th>39107</th>\n",
       "      <td>105</td>\n",
       "      <td>Cancel</td>\n",
       "    </tr>\n",
       "    <tr>\n",
       "      <th>39109</th>\n",
       "      <td>105</td>\n",
       "      <td>Cancellation Confirmation</td>\n",
       "    </tr>\n",
       "    <tr>\n",
       "      <th>40724</th>\n",
       "      <td>17</td>\n",
       "      <td>Cancel</td>\n",
       "    </tr>\n",
       "    <tr>\n",
       "      <th>40728</th>\n",
       "      <td>17</td>\n",
       "      <td>Cancellation Confirmation</td>\n",
       "    </tr>\n",
       "  </tbody>\n",
       "</table>\n",
       "</div>"
      ],
      "text/plain": [
       "      userId                       page\n",
       "19586     18                     Cancel\n",
       "19592     18  Cancellation Confirmation\n",
       "23070     32                     Cancel\n",
       "23072     32  Cancellation Confirmation\n",
       "36648    125                     Cancel\n",
       "36649    125  Cancellation Confirmation\n",
       "39107    105                     Cancel\n",
       "39109    105  Cancellation Confirmation\n",
       "40724     17                     Cancel\n",
       "40728     17  Cancellation Confirmation"
      ]
     },
     "execution_count": 17,
     "metadata": {},
     "output_type": "execute_result"
    }
   ],
   "source": [
    "pdf[(pdf['page']=='Cancel') | (pdf['page']=='Cancellation Confirmation')][['userId','page']].head(10)"
   ]
  },
  {
   "cell_type": "markdown",
   "metadata": {},
   "source": [
    "It's clear that the same users that 'Cancel' also confirm their cancellation. So there are essentially 52 users who cancel. The users that elect to downgrade don't seem to cancel. "
   ]
  },
  {
   "cell_type": "code",
   "execution_count": 18,
   "metadata": {},
   "outputs": [
    {
     "data": {
      "text/html": [
       "<div>\n",
       "<style scoped>\n",
       "    .dataframe tbody tr th:only-of-type {\n",
       "        vertical-align: middle;\n",
       "    }\n",
       "\n",
       "    .dataframe tbody tr th {\n",
       "        vertical-align: top;\n",
       "    }\n",
       "\n",
       "    .dataframe thead th {\n",
       "        text-align: right;\n",
       "    }\n",
       "</style>\n",
       "<table border=\"1\" class=\"dataframe\">\n",
       "  <thead>\n",
       "    <tr style=\"text-align: right;\">\n",
       "      <th></th>\n",
       "      <th>userId</th>\n",
       "      <th>page</th>\n",
       "    </tr>\n",
       "  </thead>\n",
       "  <tbody>\n",
       "  </tbody>\n",
       "</table>\n",
       "</div>"
      ],
      "text/plain": [
       "Empty DataFrame\n",
       "Columns: [userId, page]\n",
       "Index: []"
      ]
     },
     "execution_count": 18,
     "metadata": {},
     "output_type": "execute_result"
    }
   ],
   "source": [
    "pdf[(pdf['page']=='Cancel') & (pdf['page']=='Downgrade')][['userId','page']].head(10)"
   ]
  },
  {
   "cell_type": "markdown",
   "metadata": {},
   "source": [
    "Since the events are mutually exclusive, we could target these users as well. It might help correct for the asymmetry in numbers between users that cancel and users that don't."
   ]
  },
  {
   "cell_type": "code",
   "execution_count": 19,
   "metadata": {},
   "outputs": [
    {
     "data": {
      "text/plain": [
       "154"
      ]
     },
     "execution_count": 19,
     "metadata": {},
     "output_type": "execute_result"
    }
   ],
   "source": [
    "len(pdf[(pdf['page']=='Downgrade')]['userId'].unique())"
   ]
  },
  {
   "cell_type": "markdown",
   "metadata": {},
   "source": [
    "Since a large number of users seem to have downgraded, this would shift the asymmetry in numbers in the other direction. So, for a start it is perhaps best to avoid users that downgrade."
   ]
  },
  {
   "cell_type": "markdown",
   "metadata": {},
   "source": [
    "### Churn definition\n",
    "\n",
    "The challenge here is to define churn at a user level in Spark. In Pandas this is quite easy to do, but in Spark this can get a little messy. One way to achieve this in Spark is to first filter out all userIds corresponding to Cancel Confirmation events. Save this as a separate dataset. Create a column named churn with value 1 for this dataset. Then filter out the complement of all those userIds. Create a column named churn with value zero for this dataset. Save as a separate dataset. Then, merge the two datasets. <i><b>Churn is therefore defined at a user level in this dataset as the subset of users for which there is a single   'Cancellation Confirmation' event</i></b>. The next step is to merge this churn dataset with the original dataset to ensure that all rows corresponding to churned userIds have the 'churn' column = 1 in the original dataset."
   ]
  },
  {
   "cell_type": "code",
   "execution_count": 20,
   "metadata": {},
   "outputs": [],
   "source": [
    "# First create a SQL view to enable standard SQL syntax\n",
    "df_sparkify.createOrReplaceTempView('sparkify_users')\n",
    "\n",
    "# Subset of users who cancelled\n",
    "churned_users = spark.sql('SELECT DISTINCT userId, 1 as churn FROM sparkify_users WHERE Page = \"Cancellation Confirmation\"')\n",
    "\n",
    "# Subset of users who didn't cancel\n",
    "no_churn_users = spark.sql('SELECT DISTINCT userId, 0 as churn FROM sparkify_users WHERE userId NOT IN \\\n",
    "                           (SELECT DISTINCT userId FROM sparkify_users WHERE Page = \"Cancellation Confirmation\")')\n",
    "\n",
    "# Merge the datasets\n",
    "user_churn_df = churned_users.union(no_churn_users)\n",
    "\n",
    "# Create an SQL view\n",
    "user_churn_df.createOrReplaceTempView('sparkify_user_churn')\n",
    "\n",
    "# Then randomize the dataset\n",
    "user_churn_df = spark.sql('SELECT * FROM sparkify_user_churn ORDER BY RAND()')\n",
    "\n",
    "# Update the SQL view\n",
    "user_churn_df.createOrReplaceTempView('sparkify_user_churn')\n",
    "\n",
    "# Merge original dataset with the new dataset\n",
    "df_sparkify = df_sparkify.join(user_churn_df, on='userId')"
   ]
  },
  {
   "cell_type": "code",
   "execution_count": 21,
   "metadata": {},
   "outputs": [
    {
     "data": {
      "text/html": [
       "<div>\n",
       "<style scoped>\n",
       "    .dataframe tbody tr th:only-of-type {\n",
       "        vertical-align: middle;\n",
       "    }\n",
       "\n",
       "    .dataframe tbody tr th {\n",
       "        vertical-align: top;\n",
       "    }\n",
       "\n",
       "    .dataframe thead th {\n",
       "        text-align: right;\n",
       "    }\n",
       "</style>\n",
       "<table border=\"1\" class=\"dataframe\">\n",
       "  <thead>\n",
       "    <tr style=\"text-align: right;\">\n",
       "      <th></th>\n",
       "      <th>userId</th>\n",
       "      <th>artist</th>\n",
       "      <th>auth</th>\n",
       "      <th>firstName</th>\n",
       "      <th>gender</th>\n",
       "      <th>itemInSession</th>\n",
       "      <th>lastName</th>\n",
       "      <th>length</th>\n",
       "      <th>level</th>\n",
       "      <th>location</th>\n",
       "      <th>method</th>\n",
       "      <th>page</th>\n",
       "      <th>registration</th>\n",
       "      <th>sessionId</th>\n",
       "      <th>song</th>\n",
       "      <th>status</th>\n",
       "      <th>ts</th>\n",
       "      <th>userAgent</th>\n",
       "      <th>churn</th>\n",
       "    </tr>\n",
       "  </thead>\n",
       "  <tbody>\n",
       "    <tr>\n",
       "      <th>0</th>\n",
       "      <td>100010</td>\n",
       "      <td>Sleeping With Sirens</td>\n",
       "      <td>Logged In</td>\n",
       "      <td>Darianna</td>\n",
       "      <td>F</td>\n",
       "      <td>0</td>\n",
       "      <td>Carpenter</td>\n",
       "      <td>202.97098</td>\n",
       "      <td>free</td>\n",
       "      <td>Bridgeport-Stamford-Norwalk, CT</td>\n",
       "      <td>PUT</td>\n",
       "      <td>NextSong</td>\n",
       "      <td>1538016340000</td>\n",
       "      <td>31</td>\n",
       "      <td>Captain Tyin Knots VS Mr Walkway (No Way)</td>\n",
       "      <td>200</td>\n",
       "      <td>1539003534000</td>\n",
       "      <td>\"Mozilla/5.0 (iPhone; CPU iPhone OS 7_1_2 like...</td>\n",
       "      <td>0</td>\n",
       "    </tr>\n",
       "    <tr>\n",
       "      <th>1</th>\n",
       "      <td>100010</td>\n",
       "      <td>Francesca Battistelli</td>\n",
       "      <td>Logged In</td>\n",
       "      <td>Darianna</td>\n",
       "      <td>F</td>\n",
       "      <td>1</td>\n",
       "      <td>Carpenter</td>\n",
       "      <td>196.54485</td>\n",
       "      <td>free</td>\n",
       "      <td>Bridgeport-Stamford-Norwalk, CT</td>\n",
       "      <td>PUT</td>\n",
       "      <td>NextSong</td>\n",
       "      <td>1538016340000</td>\n",
       "      <td>31</td>\n",
       "      <td>Beautiful_ Beautiful (Album)</td>\n",
       "      <td>200</td>\n",
       "      <td>1539003736000</td>\n",
       "      <td>\"Mozilla/5.0 (iPhone; CPU iPhone OS 7_1_2 like...</td>\n",
       "      <td>0</td>\n",
       "    </tr>\n",
       "    <tr>\n",
       "      <th>2</th>\n",
       "      <td>100010</td>\n",
       "      <td>Brutha</td>\n",
       "      <td>Logged In</td>\n",
       "      <td>Darianna</td>\n",
       "      <td>F</td>\n",
       "      <td>2</td>\n",
       "      <td>Carpenter</td>\n",
       "      <td>263.13098</td>\n",
       "      <td>free</td>\n",
       "      <td>Bridgeport-Stamford-Norwalk, CT</td>\n",
       "      <td>PUT</td>\n",
       "      <td>NextSong</td>\n",
       "      <td>1538016340000</td>\n",
       "      <td>31</td>\n",
       "      <td>She's Gone</td>\n",
       "      <td>200</td>\n",
       "      <td>1539003932000</td>\n",
       "      <td>\"Mozilla/5.0 (iPhone; CPU iPhone OS 7_1_2 like...</td>\n",
       "      <td>0</td>\n",
       "    </tr>\n",
       "    <tr>\n",
       "      <th>3</th>\n",
       "      <td>100010</td>\n",
       "      <td>None</td>\n",
       "      <td>Logged In</td>\n",
       "      <td>Darianna</td>\n",
       "      <td>F</td>\n",
       "      <td>3</td>\n",
       "      <td>Carpenter</td>\n",
       "      <td>NaN</td>\n",
       "      <td>free</td>\n",
       "      <td>Bridgeport-Stamford-Norwalk, CT</td>\n",
       "      <td>PUT</td>\n",
       "      <td>Thumbs Up</td>\n",
       "      <td>1538016340000</td>\n",
       "      <td>31</td>\n",
       "      <td>None</td>\n",
       "      <td>307</td>\n",
       "      <td>1539003933000</td>\n",
       "      <td>\"Mozilla/5.0 (iPhone; CPU iPhone OS 7_1_2 like...</td>\n",
       "      <td>0</td>\n",
       "    </tr>\n",
       "    <tr>\n",
       "      <th>4</th>\n",
       "      <td>100010</td>\n",
       "      <td>Josh Ritter</td>\n",
       "      <td>Logged In</td>\n",
       "      <td>Darianna</td>\n",
       "      <td>F</td>\n",
       "      <td>4</td>\n",
       "      <td>Carpenter</td>\n",
       "      <td>316.23791</td>\n",
       "      <td>free</td>\n",
       "      <td>Bridgeport-Stamford-Norwalk, CT</td>\n",
       "      <td>PUT</td>\n",
       "      <td>NextSong</td>\n",
       "      <td>1538016340000</td>\n",
       "      <td>31</td>\n",
       "      <td>Folk Bloodbath</td>\n",
       "      <td>200</td>\n",
       "      <td>1539004195000</td>\n",
       "      <td>\"Mozilla/5.0 (iPhone; CPU iPhone OS 7_1_2 like...</td>\n",
       "      <td>0</td>\n",
       "    </tr>\n",
       "  </tbody>\n",
       "</table>\n",
       "</div>"
      ],
      "text/plain": [
       "   userId                 artist       auth firstName gender  itemInSession  \\\n",
       "0  100010   Sleeping With Sirens  Logged In  Darianna      F              0   \n",
       "1  100010  Francesca Battistelli  Logged In  Darianna      F              1   \n",
       "2  100010                 Brutha  Logged In  Darianna      F              2   \n",
       "3  100010                   None  Logged In  Darianna      F              3   \n",
       "4  100010            Josh Ritter  Logged In  Darianna      F              4   \n",
       "\n",
       "    lastName     length level                         location method  \\\n",
       "0  Carpenter  202.97098  free  Bridgeport-Stamford-Norwalk, CT    PUT   \n",
       "1  Carpenter  196.54485  free  Bridgeport-Stamford-Norwalk, CT    PUT   \n",
       "2  Carpenter  263.13098  free  Bridgeport-Stamford-Norwalk, CT    PUT   \n",
       "3  Carpenter        NaN  free  Bridgeport-Stamford-Norwalk, CT    PUT   \n",
       "4  Carpenter  316.23791  free  Bridgeport-Stamford-Norwalk, CT    PUT   \n",
       "\n",
       "        page   registration  sessionId  \\\n",
       "0   NextSong  1538016340000         31   \n",
       "1   NextSong  1538016340000         31   \n",
       "2   NextSong  1538016340000         31   \n",
       "3  Thumbs Up  1538016340000         31   \n",
       "4   NextSong  1538016340000         31   \n",
       "\n",
       "                                        song  status             ts  \\\n",
       "0  Captain Tyin Knots VS Mr Walkway (No Way)     200  1539003534000   \n",
       "1               Beautiful_ Beautiful (Album)     200  1539003736000   \n",
       "2                                 She's Gone     200  1539003932000   \n",
       "3                                       None     307  1539003933000   \n",
       "4                             Folk Bloodbath     200  1539004195000   \n",
       "\n",
       "                                           userAgent  churn  \n",
       "0  \"Mozilla/5.0 (iPhone; CPU iPhone OS 7_1_2 like...      0  \n",
       "1  \"Mozilla/5.0 (iPhone; CPU iPhone OS 7_1_2 like...      0  \n",
       "2  \"Mozilla/5.0 (iPhone; CPU iPhone OS 7_1_2 like...      0  \n",
       "3  \"Mozilla/5.0 (iPhone; CPU iPhone OS 7_1_2 like...      0  \n",
       "4  \"Mozilla/5.0 (iPhone; CPU iPhone OS 7_1_2 like...      0  "
      ]
     },
     "execution_count": 21,
     "metadata": {},
     "output_type": "execute_result"
    }
   ],
   "source": [
    "pdf = df_sparkify.toPandas()\n",
    "pdf.head(5)"
   ]
  },
  {
   "cell_type": "markdown",
   "metadata": {},
   "source": [
    "## Data Visualization"
   ]
  },
  {
   "cell_type": "code",
   "execution_count": 26,
   "metadata": {},
   "outputs": [
    {
     "name": "stderr",
     "output_type": "stream",
     "text": [
      "/opt/conda/lib/python3.6/site-packages/matplotlib/cbook/deprecation.py:106: MatplotlibDeprecationWarning: Adding an axes using the same arguments as a previous axes currently reuses the earlier instance.  In a future version, a new instance will always be created and returned.  Meanwhile, this warning can be suppressed, and the future behavior ensured, by passing a unique label to each axes instance.\n",
      "  warnings.warn(message, mplDeprecation, stacklevel=1)\n"
     ]
    },
    {
     "data": {
      "image/png": "[encoded data removed]",
      "text/plain": [
       "<matplotlib.figure.Figure at 0x7f66b0c7b978>"
      ]
     },
     "metadata": {
      "needs_background": "light"
     },
     "output_type": "display_data"
    },
    {
     "data": {
      "text/plain": [
       "<matplotlib.figure.Figure at 0x7f66be31d128>"
      ]
     },
     "metadata": {},
     "output_type": "display_data"
    }
   ],
   "source": [
    "# Gender versus churn\n",
    "gender_cross = pd.crosstab(pdf['gender'],pdf['churn']).apply(lambda x: 100*x/x.sum(), axis=1)\n",
    "gender_cross.plot.bar(figsize=(9,5))\n",
    "plt.xlabel('Gender',fontsize=15)\n",
    "plt.ylabel('Percentage',fontsize=15)\n",
    "plt.title('Gender versus Churn',fontsize=20)\n",
    "plt.setp(plt.axes().get_xticklabels(), rotation='horizontal', fontsize=12)\n",
    "plt.setp(plt.axes().get_yticklabels(), rotation='horizontal', fontsize=12)\n",
    "plt.show()\n",
    "plt.savefig('gender_churn.png')"
   ]
  },
  {
   "cell_type": "markdown",
   "metadata": {},
   "source": [
    "A greater proportion (~8% more) of men churn versus women. It is unclear as of this first attempt if this is statistically significant, but seems like a useful feature to keep."
   ]
  },
  {
   "cell_type": "code",
   "execution_count": 27,
   "metadata": {},
   "outputs": [
    {
     "name": "stderr",
     "output_type": "stream",
     "text": [
      "/opt/conda/lib/python3.6/site-packages/matplotlib/cbook/deprecation.py:106: MatplotlibDeprecationWarning: Adding an axes using the same arguments as a previous axes currently reuses the earlier instance.  In a future version, a new instance will always be created and returned.  Meanwhile, this warning can be suppressed, and the future behavior ensured, by passing a unique label to each axes instance.\n",
      "  warnings.warn(message, mplDeprecation, stacklevel=1)\n"
     ]
    },
    {
     "data": {
      "image/png": "[encoded data removed]",
      "text/plain": [
       "<matplotlib.figure.Figure at 0x7f66c41b4d30>"
      ]
     },
     "metadata": {
      "needs_background": "light"
     },
     "output_type": "display_data"
    }
   ],
   "source": [
    "plt.figure(figsize=(9,5))\n",
    "pdf[pdf['churn']==0]['itemInSession'].plot.kde(label='Non-churned users')\n",
    "pdf[pdf['churn']==1]['itemInSession'].plot.kde(label='Churned users')\n",
    "plt.title('Distribution of \\'itemInSession\\' for churned vs. non-churned users',fontsize=18)\n",
    "plt.xlim(0,1000)\n",
    "plt.xlabel('itemInSession',fontsize=15)\n",
    "plt.ylabel('Density',fontsize=15)\n",
    "plt.setp(plt.axes().get_xticklabels(), rotation='horizontal', fontsize=12)\n",
    "plt.setp(plt.axes().get_yticklabels(), rotation='horizontal', fontsize=12)\n",
    "plt.legend()\n",
    "plt.savefig('itemInSession_churn.png')"
   ]
  },
  {
   "cell_type": "markdown",
   "metadata": {},
   "source": [
    "No clear distinction exists between the distribution of itemInSession for churned and non-churned users. so this feature does not seem like the most informative feature to use for machine learning."
   ]
  },
  {
   "cell_type": "code",
   "execution_count": 25,
   "metadata": {},
   "outputs": [
    {
     "data": {
      "text/plain": [
       "count    228108.000000\n",
       "mean        249.117182\n",
       "std          99.235179\n",
       "min           0.783220\n",
       "25%         199.888530\n",
       "50%         234.500770\n",
       "75%         277.158730\n",
       "max        3024.665670\n",
       "Name: length, dtype: float64"
      ]
     },
     "execution_count": 25,
     "metadata": {},
     "output_type": "execute_result"
    }
   ],
   "source": [
    "pdf['length'].describe()"
   ]
  },
  {
   "cell_type": "code",
   "execution_count": 28,
   "metadata": {},
   "outputs": [
    {
     "name": "stderr",
     "output_type": "stream",
     "text": [
      "/opt/conda/lib/python3.6/site-packages/matplotlib/cbook/deprecation.py:106: MatplotlibDeprecationWarning: Adding an axes using the same arguments as a previous axes currently reuses the earlier instance.  In a future version, a new instance will always be created and returned.  Meanwhile, this warning can be suppressed, and the future behavior ensured, by passing a unique label to each axes instance.\n",
      "  warnings.warn(message, mplDeprecation, stacklevel=1)\n"
     ]
    },
    {
     "data": {
      "image/png": "[encoded data removed]",
      "text/plain": [
       "<matplotlib.figure.Figure at 0x7f66bf169d30>"
      ]
     },
     "metadata": {
      "needs_background": "light"
     },
     "output_type": "display_data"
    }
   ],
   "source": [
    "plt.figure(figsize=(9,5))\n",
    "pdf[pdf['churn']==0]['length'].plot.kde(label='Non-churned users')\n",
    "pdf[pdf['churn']==1]['length'].plot.kde(label='Churned users')\n",
    "plt.title('Distribution of \\'length\\' for churned vs. non-churned users',fontsize=18)\n",
    "plt.xlim(0,800)\n",
    "plt.xlabel('Length',fontsize=15)\n",
    "plt.ylabel('Density',fontsize=15)\n",
    "plt.setp(plt.axes().get_xticklabels(), rotation='horizontal', fontsize=12)\n",
    "plt.setp(plt.axes().get_yticklabels(), rotation='horizontal', fontsize=12)\n",
    "plt.legend()\n",
    "plt.savefig('length_churn.png')"
   ]
  },
  {
   "cell_type": "code",
   "execution_count": 27,
   "metadata": {},
   "outputs": [
    {
     "data": {
      "text/plain": [
       "paid    222433\n",
       "free     55721\n",
       "Name: level, dtype: int64"
      ]
     },
     "execution_count": 27,
     "metadata": {},
     "output_type": "execute_result"
    }
   ],
   "source": [
    "pdf['level'].value_counts()"
   ]
  },
  {
   "cell_type": "code",
   "execution_count": 30,
   "metadata": {},
   "outputs": [
    {
     "name": "stderr",
     "output_type": "stream",
     "text": [
      "/opt/conda/lib/python3.6/site-packages/matplotlib/cbook/deprecation.py:106: MatplotlibDeprecationWarning: Adding an axes using the same arguments as a previous axes currently reuses the earlier instance.  In a future version, a new instance will always be created and returned.  Meanwhile, this warning can be suppressed, and the future behavior ensured, by passing a unique label to each axes instance.\n",
      "  warnings.warn(message, mplDeprecation, stacklevel=1)\n"
     ]
    },
    {
     "data": {
      "image/png": "[encoded data removed]",
      "text/plain": [
       "<matplotlib.figure.Figure at 0x7f66b3f21898>"
      ]
     },
     "metadata": {
      "needs_background": "light"
     },
     "output_type": "display_data"
    },
    {
     "data": {
      "text/plain": [
       "<matplotlib.figure.Figure at 0x7f66bc7bf9b0>"
      ]
     },
     "metadata": {},
     "output_type": "display_data"
    }
   ],
   "source": [
    "# Percentage of paid/free accounts that churn\n",
    "level_cross = pd.crosstab(pdf['level'],pdf['churn']).apply(lambda x: 100*x/x.sum(), axis=1)\n",
    "level_cross.plot.bar(figsize=(9,5))\n",
    "plt.xlabel('Level',fontsize=15)\n",
    "plt.ylabel('Percentage',fontsize=15)\n",
    "plt.title('Paid/Free accounts versus Churn',fontsize=20)\n",
    "plt.setp(plt.axes().get_xticklabels(), rotation='horizontal', fontsize=12)\n",
    "plt.setp(plt.axes().get_yticklabels(), rotation='horizontal', fontsize=12)\n",
    "plt.show()\n",
    "plt.savefig('level_churn.png')"
   ]
  },
  {
   "cell_type": "markdown",
   "metadata": {},
   "source": [
    "A greater proportion (~8% more) of free-account users churn versus paid account users. Again, as of a first attempt it is unclear if this is statistically significant, but like gender, it seems like a useful feature to keep."
   ]
  },
  {
   "cell_type": "code",
   "execution_count": 30,
   "metadata": {},
   "outputs": [
    {
     "data": {
      "text/html": [
       "<div>\n",
       "<style scoped>\n",
       "    .dataframe tbody tr th:only-of-type {\n",
       "        vertical-align: middle;\n",
       "    }\n",
       "\n",
       "    .dataframe tbody tr th {\n",
       "        vertical-align: top;\n",
       "    }\n",
       "\n",
       "    .dataframe thead th {\n",
       "        text-align: right;\n",
       "    }\n",
       "</style>\n",
       "<table border=\"1\" class=\"dataframe\">\n",
       "  <thead>\n",
       "    <tr style=\"text-align: right;\">\n",
       "      <th>churn</th>\n",
       "      <th>0</th>\n",
       "      <th>1</th>\n",
       "    </tr>\n",
       "    <tr>\n",
       "      <th>location</th>\n",
       "      <th></th>\n",
       "      <th></th>\n",
       "    </tr>\n",
       "  </thead>\n",
       "  <tbody>\n",
       "    <tr>\n",
       "      <th>Albany, OR</th>\n",
       "      <td>0</td>\n",
       "      <td>23</td>\n",
       "    </tr>\n",
       "    <tr>\n",
       "      <th>Albany-Schenectady-Troy, NY</th>\n",
       "      <td>0</td>\n",
       "      <td>457</td>\n",
       "    </tr>\n",
       "    <tr>\n",
       "      <th>Alexandria, LA</th>\n",
       "      <td>955</td>\n",
       "      <td>0</td>\n",
       "    </tr>\n",
       "    <tr>\n",
       "      <th>Allentown-Bethlehem-Easton, PA-NJ</th>\n",
       "      <td>815</td>\n",
       "      <td>0</td>\n",
       "    </tr>\n",
       "    <tr>\n",
       "      <th>Anchorage, AK</th>\n",
       "      <td>1496</td>\n",
       "      <td>0</td>\n",
       "    </tr>\n",
       "    <tr>\n",
       "      <th>Atlanta-Sandy Springs-Roswell, GA</th>\n",
       "      <td>4236</td>\n",
       "      <td>0</td>\n",
       "    </tr>\n",
       "    <tr>\n",
       "      <th>Atlantic City-Hammonton, NJ</th>\n",
       "      <td>2176</td>\n",
       "      <td>0</td>\n",
       "    </tr>\n",
       "    <tr>\n",
       "      <th>Austin-Round Rock, TX</th>\n",
       "      <td>1682</td>\n",
       "      <td>0</td>\n",
       "    </tr>\n",
       "    <tr>\n",
       "      <th>Bakersfield, CA</th>\n",
       "      <td>1775</td>\n",
       "      <td>0</td>\n",
       "    </tr>\n",
       "    <tr>\n",
       "      <th>Baltimore-Columbia-Towson, MD</th>\n",
       "      <td>2442</td>\n",
       "      <td>268</td>\n",
       "    </tr>\n",
       "    <tr>\n",
       "      <th>Billings, MT</th>\n",
       "      <td>2132</td>\n",
       "      <td>0</td>\n",
       "    </tr>\n",
       "    <tr>\n",
       "      <th>Birmingham-Hoover, AL</th>\n",
       "      <td>0</td>\n",
       "      <td>75</td>\n",
       "    </tr>\n",
       "    <tr>\n",
       "      <th>Boston-Cambridge-Newton, MA-NH</th>\n",
       "      <td>13873</td>\n",
       "      <td>0</td>\n",
       "    </tr>\n",
       "    <tr>\n",
       "      <th>Boulder, CO</th>\n",
       "      <td>872</td>\n",
       "      <td>0</td>\n",
       "    </tr>\n",
       "    <tr>\n",
       "      <th>Bozeman, MT</th>\n",
       "      <td>0</td>\n",
       "      <td>254</td>\n",
       "    </tr>\n",
       "    <tr>\n",
       "      <th>Bridgeport-Stamford-Norwalk, CT</th>\n",
       "      <td>893</td>\n",
       "      <td>0</td>\n",
       "    </tr>\n",
       "    <tr>\n",
       "      <th>Buffalo-Cheektowaga-Niagara Falls, NY</th>\n",
       "      <td>1402</td>\n",
       "      <td>0</td>\n",
       "    </tr>\n",
       "    <tr>\n",
       "      <th>Charlotte-Concord-Gastonia, NC-SC</th>\n",
       "      <td>7780</td>\n",
       "      <td>0</td>\n",
       "    </tr>\n",
       "    <tr>\n",
       "      <th>Chicago-Naperville-Elgin, IL-IN-WI</th>\n",
       "      <td>4514</td>\n",
       "      <td>600</td>\n",
       "    </tr>\n",
       "    <tr>\n",
       "      <th>Cincinnati, OH-KY-IN</th>\n",
       "      <td>88</td>\n",
       "      <td>0</td>\n",
       "    </tr>\n",
       "    <tr>\n",
       "      <th>Cleveland-Elyria, OH</th>\n",
       "      <td>0</td>\n",
       "      <td>1392</td>\n",
       "    </tr>\n",
       "    <tr>\n",
       "      <th>Colorado Springs, CO</th>\n",
       "      <td>0</td>\n",
       "      <td>2168</td>\n",
       "    </tr>\n",
       "    <tr>\n",
       "      <th>Columbus, GA-AL</th>\n",
       "      <td>2716</td>\n",
       "      <td>0</td>\n",
       "    </tr>\n",
       "    <tr>\n",
       "      <th>Concord, NH</th>\n",
       "      <td>2544</td>\n",
       "      <td>0</td>\n",
       "    </tr>\n",
       "    <tr>\n",
       "      <th>Cookeville, TN</th>\n",
       "      <td>1672</td>\n",
       "      <td>0</td>\n",
       "    </tr>\n",
       "    <tr>\n",
       "      <th>Corpus Christi, TX</th>\n",
       "      <td>0</td>\n",
       "      <td>11</td>\n",
       "    </tr>\n",
       "    <tr>\n",
       "      <th>Dallas-Fort Worth-Arlington, TX</th>\n",
       "      <td>7286</td>\n",
       "      <td>319</td>\n",
       "    </tr>\n",
       "    <tr>\n",
       "      <th>Danville, VA</th>\n",
       "      <td>4257</td>\n",
       "      <td>0</td>\n",
       "    </tr>\n",
       "    <tr>\n",
       "      <th>Dayton, OH</th>\n",
       "      <td>259</td>\n",
       "      <td>0</td>\n",
       "    </tr>\n",
       "    <tr>\n",
       "      <th>Deltona-Daytona Beach-Ormond Beach, FL</th>\n",
       "      <td>73</td>\n",
       "      <td>0</td>\n",
       "    </tr>\n",
       "    <tr>\n",
       "      <th>...</th>\n",
       "      <td>...</td>\n",
       "      <td>...</td>\n",
       "    </tr>\n",
       "    <tr>\n",
       "      <th>Price, UT</th>\n",
       "      <td>1102</td>\n",
       "      <td>0</td>\n",
       "    </tr>\n",
       "    <tr>\n",
       "      <th>Providence-Warwick, RI-MA</th>\n",
       "      <td>927</td>\n",
       "      <td>0</td>\n",
       "    </tr>\n",
       "    <tr>\n",
       "      <th>Quincy, IL-MO</th>\n",
       "      <td>0</td>\n",
       "      <td>1003</td>\n",
       "    </tr>\n",
       "    <tr>\n",
       "      <th>Raleigh, NC</th>\n",
       "      <td>899</td>\n",
       "      <td>0</td>\n",
       "    </tr>\n",
       "    <tr>\n",
       "      <th>Riverside-San Bernardino-Ontario, CA</th>\n",
       "      <td>2404</td>\n",
       "      <td>0</td>\n",
       "    </tr>\n",
       "    <tr>\n",
       "      <th>Roanoke, VA</th>\n",
       "      <td>394</td>\n",
       "      <td>0</td>\n",
       "    </tr>\n",
       "    <tr>\n",
       "      <th>Sacramento--Roseville--Arden-Arcade, CA</th>\n",
       "      <td>1796</td>\n",
       "      <td>0</td>\n",
       "    </tr>\n",
       "    <tr>\n",
       "      <th>Salinas, CA</th>\n",
       "      <td>1026</td>\n",
       "      <td>0</td>\n",
       "    </tr>\n",
       "    <tr>\n",
       "      <th>San Antonio-New Braunfels, TX</th>\n",
       "      <td>4373</td>\n",
       "      <td>0</td>\n",
       "    </tr>\n",
       "    <tr>\n",
       "      <th>San Diego-Carlsbad, CA</th>\n",
       "      <td>405</td>\n",
       "      <td>349</td>\n",
       "    </tr>\n",
       "    <tr>\n",
       "      <th>San Francisco-Oakland-Hayward, CA</th>\n",
       "      <td>1976</td>\n",
       "      <td>671</td>\n",
       "    </tr>\n",
       "    <tr>\n",
       "      <th>San Jose-Sunnyvale-Santa Clara, CA</th>\n",
       "      <td>1603</td>\n",
       "      <td>0</td>\n",
       "    </tr>\n",
       "    <tr>\n",
       "      <th>Santa Maria-Santa Barbara, CA</th>\n",
       "      <td>218</td>\n",
       "      <td>0</td>\n",
       "    </tr>\n",
       "    <tr>\n",
       "      <th>Scranton--Wilkes-Barre--Hazleton, PA</th>\n",
       "      <td>6</td>\n",
       "      <td>0</td>\n",
       "    </tr>\n",
       "    <tr>\n",
       "      <th>Seattle-Tacoma-Bellevue, WA</th>\n",
       "      <td>246</td>\n",
       "      <td>0</td>\n",
       "    </tr>\n",
       "    <tr>\n",
       "      <th>Selma, AL</th>\n",
       "      <td>0</td>\n",
       "      <td>2027</td>\n",
       "    </tr>\n",
       "    <tr>\n",
       "      <th>Spokane-Spokane Valley, WA</th>\n",
       "      <td>0</td>\n",
       "      <td>3526</td>\n",
       "    </tr>\n",
       "    <tr>\n",
       "      <th>St. Louis, MO-IL</th>\n",
       "      <td>4010</td>\n",
       "      <td>848</td>\n",
       "    </tr>\n",
       "    <tr>\n",
       "      <th>Sterling, IL</th>\n",
       "      <td>1198</td>\n",
       "      <td>0</td>\n",
       "    </tr>\n",
       "    <tr>\n",
       "      <th>Stockton-Lodi, CA</th>\n",
       "      <td>337</td>\n",
       "      <td>0</td>\n",
       "    </tr>\n",
       "    <tr>\n",
       "      <th>Syracuse, NY</th>\n",
       "      <td>2677</td>\n",
       "      <td>0</td>\n",
       "    </tr>\n",
       "    <tr>\n",
       "      <th>Tallahassee, FL</th>\n",
       "      <td>3216</td>\n",
       "      <td>0</td>\n",
       "    </tr>\n",
       "    <tr>\n",
       "      <th>Tampa-St. Petersburg-Clearwater, FL</th>\n",
       "      <td>2475</td>\n",
       "      <td>0</td>\n",
       "    </tr>\n",
       "    <tr>\n",
       "      <th>Troy, AL</th>\n",
       "      <td>630</td>\n",
       "      <td>0</td>\n",
       "    </tr>\n",
       "    <tr>\n",
       "      <th>Truckee-Grass Valley, CA</th>\n",
       "      <td>2073</td>\n",
       "      <td>0</td>\n",
       "    </tr>\n",
       "    <tr>\n",
       "      <th>Vineland-Bridgeton, NJ</th>\n",
       "      <td>4825</td>\n",
       "      <td>0</td>\n",
       "    </tr>\n",
       "    <tr>\n",
       "      <th>Virginia Beach-Norfolk-Newport News, VA-NC</th>\n",
       "      <td>97</td>\n",
       "      <td>149</td>\n",
       "    </tr>\n",
       "    <tr>\n",
       "      <th>Washington-Arlington-Alexandria, DC-VA-MD-WV</th>\n",
       "      <td>2932</td>\n",
       "      <td>158</td>\n",
       "    </tr>\n",
       "    <tr>\n",
       "      <th>Wilson, NC</th>\n",
       "      <td>4659</td>\n",
       "      <td>0</td>\n",
       "    </tr>\n",
       "    <tr>\n",
       "      <th>Winston-Salem, NC</th>\n",
       "      <td>819</td>\n",
       "      <td>0</td>\n",
       "    </tr>\n",
       "  </tbody>\n",
       "</table>\n",
       "<p>114 rows × 2 columns</p>\n",
       "</div>"
      ],
      "text/plain": [
       "churn                                             0     1\n",
       "location                                                 \n",
       "Albany, OR                                        0    23\n",
       "Albany-Schenectady-Troy, NY                       0   457\n",
       "Alexandria, LA                                  955     0\n",
       "Allentown-Bethlehem-Easton, PA-NJ               815     0\n",
       "Anchorage, AK                                  1496     0\n",
       "Atlanta-Sandy Springs-Roswell, GA              4236     0\n",
       "Atlantic City-Hammonton, NJ                    2176     0\n",
       "Austin-Round Rock, TX                          1682     0\n",
       "Bakersfield, CA                                1775     0\n",
       "Baltimore-Columbia-Towson, MD                  2442   268\n",
       "Billings, MT                                   2132     0\n",
       "Birmingham-Hoover, AL                             0    75\n",
       "Boston-Cambridge-Newton, MA-NH                13873     0\n",
       "Boulder, CO                                     872     0\n",
       "Bozeman, MT                                       0   254\n",
       "Bridgeport-Stamford-Norwalk, CT                 893     0\n",
       "Buffalo-Cheektowaga-Niagara Falls, NY          1402     0\n",
       "Charlotte-Concord-Gastonia, NC-SC              7780     0\n",
       "Chicago-Naperville-Elgin, IL-IN-WI             4514   600\n",
       "Cincinnati, OH-KY-IN                             88     0\n",
       "Cleveland-Elyria, OH                              0  1392\n",
       "Colorado Springs, CO                              0  2168\n",
       "Columbus, GA-AL                                2716     0\n",
       "Concord, NH                                    2544     0\n",
       "Cookeville, TN                                 1672     0\n",
       "Corpus Christi, TX                                0    11\n",
       "Dallas-Fort Worth-Arlington, TX                7286   319\n",
       "Danville, VA                                   4257     0\n",
       "Dayton, OH                                      259     0\n",
       "Deltona-Daytona Beach-Ormond Beach, FL           73     0\n",
       "...                                             ...   ...\n",
       "Price, UT                                      1102     0\n",
       "Providence-Warwick, RI-MA                       927     0\n",
       "Quincy, IL-MO                                     0  1003\n",
       "Raleigh, NC                                     899     0\n",
       "Riverside-San Bernardino-Ontario, CA           2404     0\n",
       "Roanoke, VA                                     394     0\n",
       "Sacramento--Roseville--Arden-Arcade, CA        1796     0\n",
       "Salinas, CA                                    1026     0\n",
       "San Antonio-New Braunfels, TX                  4373     0\n",
       "San Diego-Carlsbad, CA                          405   349\n",
       "San Francisco-Oakland-Hayward, CA              1976   671\n",
       "San Jose-Sunnyvale-Santa Clara, CA             1603     0\n",
       "Santa Maria-Santa Barbara, CA                   218     0\n",
       "Scranton--Wilkes-Barre--Hazleton, PA              6     0\n",
       "Seattle-Tacoma-Bellevue, WA                     246     0\n",
       "Selma, AL                                         0  2027\n",
       "Spokane-Spokane Valley, WA                        0  3526\n",
       "St. Louis, MO-IL                               4010   848\n",
       "Sterling, IL                                   1198     0\n",
       "Stockton-Lodi, CA                               337     0\n",
       "Syracuse, NY                                   2677     0\n",
       "Tallahassee, FL                                3216     0\n",
       "Tampa-St. Petersburg-Clearwater, FL            2475     0\n",
       "Troy, AL                                        630     0\n",
       "Truckee-Grass Valley, CA                       2073     0\n",
       "Vineland-Bridgeton, NJ                         4825     0\n",
       "Virginia Beach-Norfolk-Newport News, VA-NC       97   149\n",
       "Washington-Arlington-Alexandria, DC-VA-MD-WV   2932   158\n",
       "Wilson, NC                                     4659     0\n",
       "Winston-Salem, NC                               819     0\n",
       "\n",
       "[114 rows x 2 columns]"
      ]
     },
     "execution_count": 30,
     "metadata": {},
     "output_type": "execute_result"
    }
   ],
   "source": [
    "pd.crosstab(pdf['location'],pdf['churn'])"
   ]
  },
  {
   "cell_type": "markdown",
   "metadata": {},
   "source": [
    "Location information seems to be useful in creating features - there seem to be some locations that have a significant propotion of churning users. since there are 114 distinct locations in the dataset, it's probably a better idea to categorize location information into high-probability of churn-versus low/medium probability of churn buckets."
   ]
  },
  {
   "cell_type": "code",
   "execution_count": 31,
   "metadata": {},
   "outputs": [
    {
     "data": {
      "text/html": [
       "<div>\n",
       "<style scoped>\n",
       "    .dataframe tbody tr th:only-of-type {\n",
       "        vertical-align: middle;\n",
       "    }\n",
       "\n",
       "    .dataframe tbody tr th {\n",
       "        vertical-align: top;\n",
       "    }\n",
       "\n",
       "    .dataframe thead th {\n",
       "        text-align: right;\n",
       "    }\n",
       "</style>\n",
       "<table border=\"1\" class=\"dataframe\">\n",
       "  <thead>\n",
       "    <tr style=\"text-align: right;\">\n",
       "      <th>churn</th>\n",
       "      <th>0</th>\n",
       "      <th>1</th>\n",
       "    </tr>\n",
       "    <tr>\n",
       "      <th>method</th>\n",
       "      <th></th>\n",
       "      <th></th>\n",
       "    </tr>\n",
       "  </thead>\n",
       "  <tbody>\n",
       "    <tr>\n",
       "      <th>GET</th>\n",
       "      <td>81.623721</td>\n",
       "      <td>18.376279</td>\n",
       "    </tr>\n",
       "    <tr>\n",
       "      <th>PUT</th>\n",
       "      <td>84.048049</td>\n",
       "      <td>15.951951</td>\n",
       "    </tr>\n",
       "  </tbody>\n",
       "</table>\n",
       "</div>"
      ],
      "text/plain": [
       "churn           0          1\n",
       "method                      \n",
       "GET     81.623721  18.376279\n",
       "PUT     84.048049  15.951951"
      ]
     },
     "execution_count": 31,
     "metadata": {},
     "output_type": "execute_result"
    }
   ],
   "source": [
    "# Percentage of paid/free accounts that churn\n",
    "pd.crosstab(pdf['method'],pdf['churn']).apply(lambda x: 100*x/x.sum(), axis=1)"
   ]
  },
  {
   "cell_type": "markdown",
   "metadata": {},
   "source": [
    "Since there is no data dictionary provided, the meaning of these columns is not known. So while I suspect that PUT/GET refer to actions taken by the system while fetching or updating information regarding users, I still need to see if it has power in predicting churn. It seems like it doesn't."
   ]
  },
  {
   "cell_type": "markdown",
   "metadata": {},
   "source": [
    "Another useful feature to use maybe the time elapsed between the creation of the account (registration) and the last recorded activity timestamp. The intution here is that greater the time delta, greater the probability that the user will stay on the platform."
   ]
  },
  {
   "cell_type": "code",
   "execution_count": 33,
   "metadata": {},
   "outputs": [],
   "source": [
    "userid_max_ts = pdf[['userId','ts']].groupby('userId').max()\n",
    "userid_max_ts_dict = userid_max_ts['ts'].to_dict()"
   ]
  },
  {
   "cell_type": "code",
   "execution_count": 34,
   "metadata": {},
   "outputs": [],
   "source": [
    "pdf['timeSpentSeconds'] = (pdf['userId'].apply(lambda x:userid_max_ts_dict[x]) - pdf['registration'])/1000\n",
    "pdf['timeSpentNorm'] = pdf['timeSpentSeconds']/pdf['timeSpentSeconds'].max()"
   ]
  },
  {
   "cell_type": "code",
   "execution_count": 36,
   "metadata": {},
   "outputs": [
    {
     "name": "stderr",
     "output_type": "stream",
     "text": [
      "/opt/conda/lib/python3.6/site-packages/matplotlib/cbook/deprecation.py:106: MatplotlibDeprecationWarning: Adding an axes using the same arguments as a previous axes currently reuses the earlier instance.  In a future version, a new instance will always be created and returned.  Meanwhile, this warning can be suppressed, and the future behavior ensured, by passing a unique label to each axes instance.\n",
      "  warnings.warn(message, mplDeprecation, stacklevel=1)\n"
     ]
    },
    {
     "data": {
      "image/png": "[encoded data removed]",
      "text/plain": [
       "<matplotlib.figure.Figure at 0x7f66c107a828>"
      ]
     },
     "metadata": {
      "needs_background": "light"
     },
     "output_type": "display_data"
    }
   ],
   "source": [
    "plt.figure(figsize=(9,5))\n",
    "pdf[pdf['churn']==0]['timeSpentNorm'].plot.kde(label='Non-churned users')\n",
    "pdf[pdf['churn']==1]['timeSpentNorm'].plot.kde(label='Churned users')\n",
    "plt.title('Distribution of \\'Normalized time spent\\' for churned vs. non-churned users',fontsize=18)\n",
    "plt.xlabel('Normalized time spent',fontsize=15)\n",
    "plt.ylabel('Density',fontsize=15)\n",
    "plt.xlim(0,1)\n",
    "plt.setp(plt.axes().get_xticklabels(), rotation='horizontal', fontsize=12)\n",
    "plt.setp(plt.axes().get_yticklabels(), rotation='horizontal', fontsize=12)\n",
    "plt.legend()\n",
    "plt.savefig('timespent_churn.png')"
   ]
  },
  {
   "cell_type": "markdown",
   "metadata": {},
   "source": [
    "There is a clear difference between distributions on this feature, with churned users frequently spending lesser time on the platform than non-churned users. While it may not give an exact prediction, since some churned users also have a significant amount of time spent on the platform, it seems like a useful feature to include in modeling, especially because Non-churned users peak quite a bit above churned users both in terms of density and normalized time spent."
   ]
  },
  {
   "cell_type": "markdown",
   "metadata": {},
   "source": [
    "Next, I define user engagement as the total number of interactions a user has on the application. While it isn't necessary that more engaged users won't churn, the hope is that the analysis shows some distinctions between user usage patterns for churned v. non-churned users."
   ]
  },
  {
   "cell_type": "code",
   "execution_count": 38,
   "metadata": {},
   "outputs": [],
   "source": [
    "user_engagement_dict = pdf.groupby('userId').count()['page'].to_dict()\n",
    "pdf['user_engagement'] = pdf['userId'].apply(lambda x: user_engagement_dict[x])"
   ]
  },
  {
   "cell_type": "code",
   "execution_count": 39,
   "metadata": {},
   "outputs": [
    {
     "name": "stderr",
     "output_type": "stream",
     "text": [
      "/opt/conda/lib/python3.6/site-packages/matplotlib/cbook/deprecation.py:106: MatplotlibDeprecationWarning: Adding an axes using the same arguments as a previous axes currently reuses the earlier instance.  In a future version, a new instance will always be created and returned.  Meanwhile, this warning can be suppressed, and the future behavior ensured, by passing a unique label to each axes instance.\n",
      "  warnings.warn(message, mplDeprecation, stacklevel=1)\n"
     ]
    },
    {
     "data": {
      "image/png": "[encoded data removed]",
      "text/plain": [
       "<matplotlib.figure.Figure at 0x7f66c2a87be0>"
      ]
     },
     "metadata": {
      "needs_background": "light"
     },
     "output_type": "display_data"
    }
   ],
   "source": [
    "plt.figure(figsize=(9,5))\n",
    "pdf[pdf['churn']==0]['user_engagement'].plot.kde(label='Non-churned users')\n",
    "pdf[pdf['churn']==1]['user_engagement'].plot.kde(label='Churned users')\n",
    "plt.title('Distribution of \\'User Engagement\\' for churned vs. non-churned users',fontsize=20)\n",
    "plt.xlabel('User Engagement',fontsize=15)\n",
    "plt.ylabel('Density',fontsize=15)\n",
    "plt.setp(plt.axes().get_xticklabels(), rotation='horizontal', fontsize=12)\n",
    "plt.setp(plt.axes().get_yticklabels(), rotation='horizontal', fontsize=12)\n",
    "plt.xlim(0,10000)\n",
    "plt.legend()\n",
    "plt.savefig('user_engage_churn.png')"
   ]
  },
  {
   "cell_type": "markdown",
   "metadata": {},
   "source": [
    "There seems to be a significant difference between the two distributions. It is clear that all users who churn don't interact too long with the platform. The maximum engagement for churned users is 4000 events and the distribution is rather narrow.\n",
    "For non-churned users the engagement is broader, and the distribution has larger and longer tails."
   ]
  },
  {
   "cell_type": "markdown",
   "metadata": {},
   "source": [
    "# Feature Engineering/Data Preprocessing"
   ]
  },
  {
   "cell_type": "markdown",
   "metadata": {},
   "source": [
    "Broadly speaking, the section above identified a few promising features based on exploration of correlations and differences between the two categories. 'gender', 'level', 'location', 'timespentNormalized', 'userEngagement' were identified as potentially useful features for machine learning. The next step is to perform feature engineering in Spark to createfeatures useful for machine learning."
   ]
  },
  {
   "cell_type": "code",
   "execution_count": 40,
   "metadata": {},
   "outputs": [],
   "source": [
    "# Create two new columns corresponding to event dates and registration dates\n",
    "df_sparkify = df_sparkify.withColumn('event_date', from_unixtime((col('ts')/1000)).cast(DateType()))\n",
    "df_sparkify = df_sparkify.withColumn('reg_date', from_unixtime((col('registration')/1000)).cast(DateType()))"
   ]
  },
  {
   "cell_type": "code",
   "execution_count": 41,
   "metadata": {},
   "outputs": [
    {
     "name": "stdout",
     "output_type": "stream",
     "text": [
      "+------+--------------------+---------+---------+------+-------------+---------+---------+-----+--------------------+------+---------+-------------+---------+--------------------+------+-------------+--------------------+-----+----------+----------+-------------+\n",
      "|userId|              artist|     auth|firstName|gender|itemInSession| lastName|   length|level|            location|method|     page| registration|sessionId|                song|status|           ts|           userAgent|churn|event_date|  reg_date|        maxts|\n",
      "+------+--------------------+---------+---------+------+-------------+---------+---------+-----+--------------------+------+---------+-------------+---------+--------------------+------+-------------+--------------------+-----+----------+----------+-------------+\n",
      "|100010|Sleeping With Sirens|Logged In| Darianna|     F|            0|Carpenter|202.97098| free|Bridgeport-Stamfo...|   PUT| NextSong|1538016340000|       31|Captain Tyin Knot...|   200|1539003534000|\"Mozilla/5.0 (iPh...|    0|2018-10-08|2018-09-27|1542823952000|\n",
      "|100010|Francesca Battist...|Logged In| Darianna|     F|            1|Carpenter|196.54485| free|Bridgeport-Stamfo...|   PUT| NextSong|1538016340000|       31|Beautiful_ Beauti...|   200|1539003736000|\"Mozilla/5.0 (iPh...|    0|2018-10-08|2018-09-27|1542823952000|\n",
      "|100010|              Brutha|Logged In| Darianna|     F|            2|Carpenter|263.13098| free|Bridgeport-Stamfo...|   PUT| NextSong|1538016340000|       31|          She's Gone|   200|1539003932000|\"Mozilla/5.0 (iPh...|    0|2018-10-08|2018-09-27|1542823952000|\n",
      "|100010|                null|Logged In| Darianna|     F|            3|Carpenter|     null| free|Bridgeport-Stamfo...|   PUT|Thumbs Up|1538016340000|       31|                null|   307|1539003933000|\"Mozilla/5.0 (iPh...|    0|2018-10-08|2018-09-27|1542823952000|\n",
      "|100010|         Josh Ritter|Logged In| Darianna|     F|            4|Carpenter|316.23791| free|Bridgeport-Stamfo...|   PUT| NextSong|1538016340000|       31|      Folk Bloodbath|   200|1539004195000|\"Mozilla/5.0 (iPh...|    0|2018-10-08|2018-09-27|1542823952000|\n",
      "+------+--------------------+---------+---------+------+-------------+---------+---------+-----+--------------------+------+---------+-------------+---------+--------------------+------+-------------+--------------------+-----+----------+----------+-------------+\n",
      "only showing top 5 rows\n",
      "\n"
     ]
    }
   ],
   "source": [
    "# Create a column containing the maximum timestamp for a given user and merge with original\n",
    "query = \"SELECT userId, max(ts) as maxts \\\n",
    "         FROM sparkify_users \\\n",
    "         GROUP BY userId\"\n",
    "df_temp  = spark.sql(query)\n",
    "df_sparkify = df_sparkify.join(df_temp,on='userId')\n",
    "df_sparkify.show(n=5)"
   ]
  },
  {
   "cell_type": "code",
   "execution_count": 42,
   "metadata": {},
   "outputs": [],
   "source": [
    "# Create a column that calculates days between maximum timestamp and registration date\n",
    "df_sparkify = df_sparkify.withColumn('timeSpentMax',\\\n",
    "                                     datediff(end=from_unixtime(col('maxts')/1000).cast(DateType()),\\\n",
    "                                              start = col('reg_date'))\\\n",
    "                                    )"
   ]
  },
  {
   "cell_type": "code",
   "execution_count": 43,
   "metadata": {},
   "outputs": [],
   "source": [
    "# Create a column containing total number of interactions a user has had with a platform\n",
    "query = \"SELECT userId, count(*) as user_engagement \\\n",
    "         FROM sparkify_users \\\n",
    "         GROUP BY userId\"\n",
    "df_temp  = spark.sql(query)\n",
    "df_sparkify = df_sparkify.join(df_temp,on='userId')"
   ]
  },
  {
   "cell_type": "code",
   "execution_count": 44,
   "metadata": {},
   "outputs": [],
   "source": [
    "# Update the SQL view\n",
    "df_sparkify.createOrReplaceTempView('sparkify_users')"
   ]
  },
  {
   "cell_type": "code",
   "execution_count": 45,
   "metadata": {},
   "outputs": [],
   "source": [
    "# Create a column containing the count of churn=1 for a given location and then compute the proportion churned\n",
    "\n",
    "# First create a dataset grouped by location counting the number of churn instances\n",
    "query = \"SELECT location, COUNT(*) as loc_total_churn \\\n",
    "         FROM sparkify_users \\\n",
    "         WHERE churn=1 \\\n",
    "         GROUP BY location \\\n",
    "         ORDER by location\"\n",
    "df_temp1  = spark.sql(query)\n",
    "\n",
    "# Then create a dataset grouped by location counting the total number of users at each location\n",
    "query = \"SELECT location, count(*) as loc_total \\\n",
    "         FROM sparkify_users \\\n",
    "         GROUP BY location \\\n",
    "         ORDER BY location\"\n",
    "df_temp2  = spark.sql(query)\n",
    "\n",
    "# finally do a left join - the locations for which there was no churn will be marked as nulls\n",
    "df_temp = df_temp2.join(df_temp1,on='location',how='left')\n",
    "\n",
    "# Convert the nulls to zero\n",
    "df_temp = df_temp.na.fill(0)\n",
    "\n",
    "# Sort and show\n",
    "df_temp = df_temp.withColumn('pchurn',col('loc_total_churn')/col('loc_total'))"
   ]
  },
  {
   "cell_type": "code",
   "execution_count": 46,
   "metadata": {},
   "outputs": [],
   "source": [
    "# bin the pchurn column into distinct categories based on whether p churn is <.3, .3<pchurn<.6 or pchurn>0.6\n",
    "\n",
    "bucketizer = Bucketizer(splits=[ 0, 0.3, 0.6, 1.0 ],inputCol=\"pchurn\", outputCol=\"buckets\")\n",
    "df_temp = bucketizer.setHandleInvalid(\"keep\").transform(df_temp)\n",
    "\n",
    "# Convert bucket column to categorical column \"location_churn\"\n",
    "churn_labels = {0.0:\"Low Churn Location\", 1.0: \"Medium Churn Location\", 2.0:\"High Churn Location\"}\n",
    "udf_churn_loc = udf(lambda x: churn_labels[x], StringType())\n",
    "df_temp = df_temp.withColumn(\"location_churn\", udf_churn_loc(\"buckets\"))"
   ]
  },
  {
   "cell_type": "code",
   "execution_count": 47,
   "metadata": {},
   "outputs": [],
   "source": [
    "# Now merge this dataset with the main dataset. Drop other columns. Only keep 'location churn'\n",
    "columns_to_drop = ['loc_total', 'loc_total_churn','pchurn','buckets']\n",
    "df_temp = df_temp.drop(*columns_to_drop)"
   ]
  },
  {
   "cell_type": "code",
   "execution_count": 48,
   "metadata": {},
   "outputs": [],
   "source": [
    "df_sparkify = df_sparkify.join(df_temp,on='location')"
   ]
  },
  {
   "cell_type": "code",
   "execution_count": 49,
   "metadata": {},
   "outputs": [],
   "source": [
    "# The product of time spent and user engagement. The hope in using this feature \n",
    "# is to enhance the difference between the two churn groups.\n",
    "\n",
    "df_sparkify = df_sparkify.withColumn('time_engage_prod',col('timeSpentMax')*col('user_engagement'))\n",
    "pdf = df_sparkify.toPandas()"
   ]
  },
  {
   "cell_type": "code",
   "execution_count": 50,
   "metadata": {},
   "outputs": [
    {
     "name": "stderr",
     "output_type": "stream",
     "text": [
      "/opt/conda/lib/python3.6/site-packages/matplotlib/cbook/deprecation.py:106: MatplotlibDeprecationWarning: Adding an axes using the same arguments as a previous axes currently reuses the earlier instance.  In a future version, a new instance will always be created and returned.  Meanwhile, this warning can be suppressed, and the future behavior ensured, by passing a unique label to each axes instance.\n",
      "  warnings.warn(message, mplDeprecation, stacklevel=1)\n"
     ]
    },
    {
     "data": {
      "image/png": "[encoded data removed]",
      "text/plain": [
       "<matplotlib.figure.Figure at 0x7f66c6c9a7b8>"
      ]
     },
     "metadata": {
      "needs_background": "light"
     },
     "output_type": "display_data"
    }
   ],
   "source": [
    "plt.figure(figsize=(9,5))\n",
    "pdf[pdf['churn']==0]['time_engage_prod'].plot.kde(label='Non-churned users')\n",
    "pdf[pdf['churn']==1]['time_engage_prod'].plot.kde(label='Churned users')\n",
    "plt.title('Distribution of \\'time_engage_prod\\' for churned vs. non-churned users',fontsize=18)\n",
    "plt.xlabel('time_engage_prod',fontsize=15)\n",
    "plt.ylabel('Density',fontsize=15)\n",
    "plt.setp(plt.axes().get_xticklabels(), rotation='horizontal', fontsize=12)\n",
    "plt.setp(plt.axes().get_yticklabels(), rotation='horizontal', fontsize=12)\n",
    "plt.xlim(0,1e6)\n",
    "plt.legend()\n",
    "plt.savefig('eng_time_prod_churn.png')\n"
   ]
  },
  {
   "cell_type": "markdown",
   "metadata": {},
   "source": [
    "In principle, normalized higher order products of the above two features may be able to resolve the two groups apart even further, but for the time being, I'm going to stick with the simple first order product."
   ]
  },
  {
   "cell_type": "code",
   "execution_count": 77,
   "metadata": {},
   "outputs": [
    {
     "name": "stdout",
     "output_type": "stream",
     "text": [
      "root\n",
      " |-- gender: string (nullable = true)\n",
      " |-- level: string (nullable = true)\n",
      " |-- churn: integer (nullable = false)\n",
      " |-- timeSpentMax: integer (nullable = true)\n",
      " |-- user_engagement: long (nullable = false)\n",
      " |-- location_churn: string (nullable = true)\n",
      " |-- time_engage_prod: long (nullable = true)\n",
      "\n"
     ]
    }
   ],
   "source": [
    "# Drop all other columns other than relevant columns identified as potential features columns\n",
    "# I'm deciding to use 'gender', 'level', 'timeSpentMax', 'user_engagement', 'location_churn',\n",
    "# 'time_engage_prod' as my initial set of features.\n",
    "\n",
    "columns_to_keep = ['gender','level','location_churn','timeSpentMax','user_engagement','time_engage_prod','churn']\n",
    "\n",
    "columns_to_drop = [col for col in df_sparkify.columns if col not in columns_to_keep]\n",
    "\n",
    "df_features = df_sparkify.drop(*columns_to_drop)\n",
    "df_features.printSchema()"
   ]
  },
  {
   "cell_type": "code",
   "execution_count": 78,
   "metadata": {},
   "outputs": [
    {
     "name": "stdout",
     "output_type": "stream",
     "text": [
      "+------+-----+-----+------------+---------------+--------------+----------------+\n",
      "|gender|level|churn|timeSpentMax|user_engagement|location_churn|time_engage_prod|\n",
      "+------+-----+-----+------------+---------------+--------------+----------------+\n",
      "|     0|    0|    0|           0|              0|             0|               0|\n",
      "+------+-----+-----+------------+---------------+--------------+----------------+\n",
      "\n"
     ]
    }
   ],
   "source": [
    "# Check for the presence of null values - remove any if necessary\n",
    "df_features.select([count(when(isnan(c), c)).alias(c) for c in df_features.columns]).show()"
   ]
  },
  {
   "cell_type": "code",
   "execution_count": 79,
   "metadata": {},
   "outputs": [],
   "source": [
    "# Select required columns, add a 'label' column required by Spark\n",
    "df_features = df_features.select(col('gender').alias('gender'),\n",
    "                                 col('level').alias('level'),\n",
    "                                 col('timeSpentMax').alias('timeSpentMax'),\n",
    "                                 col('user_engagement').alias('user_engagement'),\n",
    "                                 col('location_churn').alias('location_churn'),\n",
    "                                 col('time_engage_prod').alias('time_engage_prod'),\n",
    "                                 col('churn').alias('label'))"
   ]
  },
  {
   "cell_type": "markdown",
   "metadata": {},
   "source": [
    "This completes the feature engineerinng/data-processing step. As of this first attempt, I am choosing to NOT normalize any of my numeric columns. If I find problems in algorithm convergence, especially in Gradient Boosted Classification, I will consider normalizing the numeric columns."
   ]
  },
  {
   "cell_type": "markdown",
   "metadata": {},
   "source": [
    "# Modeling"
   ]
  },
  {
   "cell_type": "code",
   "execution_count": 80,
   "metadata": {},
   "outputs": [],
   "source": [
    "# Convert categorical variables to index variables, create a pipeline for machine learning\n",
    "gender_index = StringIndexer(inputCol='gender', outputCol='gend_idx')\n",
    "level_index = StringIndexer(inputCol='level', outputCol='level_idx')\n",
    "loc_churn_index = StringIndexer(inputCol='location_churn', outputCol='loc_churn_idx')\n",
    "all_features = VectorAssembler(inputCols=['gend_idx',\n",
    "                                          'level_idx',\n",
    "                                          'loc_churn_idx',\n",
    "                                          'timeSpentMax',\n",
    "                                          'user_engagement',\n",
    "                                          'timeSpentMax'],\n",
    "                           outputCol='features')\n",
    "features_pipeline = Pipeline(stages=[gender_index, level_index, loc_churn_index, all_features])\n",
    "\n",
    "# Fit the pipeline\n",
    "df_model = features_pipeline.fit(df_features).transform(df_features)"
   ]
  },
  {
   "cell_type": "code",
   "execution_count": 52,
   "metadata": {},
   "outputs": [
    {
     "data": {
      "text/plain": [
       "DataFrame[gender: string, level: string, timeSpentMax: int, user_engagement: bigint, location_churn: string, time_engage_prod: bigint, label: int, gend_idx: double, level_idx: double, loc_churn_idx: double, features: vector]"
      ]
     },
     "execution_count": 52,
     "metadata": {},
     "output_type": "execute_result"
    }
   ],
   "source": [
    "df_model"
   ]
  },
  {
   "cell_type": "markdown",
   "metadata": {},
   "source": [
    "A custom function for training and evaluating multiple classification models is created. The tradeoff of speed of execution versus accuracy is used to select the best model for optimization"
   ]
  },
  {
   "cell_type": "code",
   "execution_count": 81,
   "metadata": {},
   "outputs": [],
   "source": [
    "# Custom function to train and evaluate default model\n",
    "\n",
    "def train_evaluate_default_model(train_data, test_data, model_type=\"logistic\"):\n",
    "    '''\n",
    "    Fit and evaluate models on training and test data respectively. \n",
    "    \n",
    "    Arguments:\n",
    "    train_data: Spark DataFrame\n",
    "        Training data\n",
    "    test_data: Spark DataFrame\n",
    "        Testing data\n",
    "    model_type: string\n",
    "        One of 'logistic','random forest','gradient boosting'.\n",
    "    \n",
    "    Outputs:\n",
    "    model: Spark Classifier\n",
    "        The classification model fit on the data\n",
    "\n",
    "    '''\n",
    "    # Create a dictionary with keys as model_type and values as respective default models\n",
    "    model_dict={'logistic': LogisticRegression(),\n",
    "                'random forest': RandomForestClassifier(),\n",
    "                'gradient boosting':GBTClassifier()\n",
    "               }\n",
    "    \n",
    "    # Instantiate model\n",
    "    model = model_dict[model_type]\n",
    "    \n",
    "    start_time = time.time()\n",
    "    # train model\n",
    "    model_fit = model.fit(train_data)\n",
    "    predictions = model_fit.transform(test_data)\n",
    "    \n",
    "    # Evaluation metrics - accuracy, F1-score\n",
    "    acc_eval = MulticlassClassificationEvaluator(metricName='accuracy')\n",
    "    accuracy = acc_eval.evaluate(predictions.select(col('label'), col('prediction')))\n",
    "    \n",
    "    f1_eval = MulticlassClassificationEvaluator(metricName='f1')\n",
    "    f1 = f1_eval.evaluate(predictions.select(col('label'), col('prediction')))\n",
    "    end_time = time.time()\n",
    "    print('Model: {}, Test Accuracy: {:.4%}, Test F-1 score: {:.4%}, time required for fitting and evaluation: {} seconds'\\\n",
    "    .format(model, accuracy, f1,end_time-start_time))\n",
    "    \n",
    "    return model_fit"
   ]
  },
  {
   "cell_type": "code",
   "execution_count": 82,
   "metadata": {},
   "outputs": [],
   "source": [
    "# It is unclear to me if all the algorithms being implemented can use Sparse data types. \n",
    "# So I am going to Convert sparse vector data to dense to be on the safe side \n",
    "\n",
    "df_sparse = df_model.select(\"label\", \"features\")\n",
    "rdd = df_sparse.rdd.map(lambda x: Row(label=x[0],features=DenseVector(x[1].toArray())))\n",
    "ml_data = spark.createDataFrame(rdd)\n",
    "\n",
    "# Create training and evaluation (test) data\n",
    "train_data, test_data = ml_data.randomSplit([0.8, 0.2], seed=1234)"
   ]
  },
  {
   "cell_type": "code",
   "execution_count": 64,
   "metadata": {},
   "outputs": [
    {
     "name": "stdout",
     "output_type": "stream",
     "text": [
      "Model: LogisticRegression_6d534475608e, Test Accuracy: 91.1599%, Test F-1 score: 90.3750%, time required for fitting and evaluation: 204.3302345275879\n",
      "Model: RandomForestClassifier_b5823d6c1e21, Test Accuracy: 96.8853%, Test F-1 score: 96.8899%, time required for fitting and evaluation: 285.6659400463104\n",
      "Model: GBTClassifier_fa6f74f79515, Test Accuracy: 99.2123%, Test F-1 score: 99.2094%, time required for fitting and evaluation: 587.6399395465851\n"
     ]
    }
   ],
   "source": [
    "# Loop through model types and evaluate\n",
    "model_type_list = ['logistic', 'random forest', 'gradient boosting']\n",
    "\n",
    "for model_type in model_type_list:\n",
    "    train_evaluate_default_model(model_type=model_type,test_data=test_data,train_data=train_data)"
   ]
  },
  {
   "cell_type": "code",
   "execution_count": 72,
   "metadata": {},
   "outputs": [
    {
     "name": "stdout",
     "output_type": "stream",
     "text": [
      "0.0\n",
      "20\n",
      "5\n"
     ]
    }
   ],
   "source": [
    "# Get default values of key parameters for RF model as a reference\n",
    "\n",
    "test = RandomForestClassifier()\n",
    "print(test.getOrDefault('minInfoGain'))\n",
    "print(test.getOrDefault('numTrees'))\n",
    "print(test.getOrDefault('maxDepth'))"
   ]
  },
  {
   "cell_type": "code",
   "execution_count": null,
   "metadata": {},
   "outputs": [],
   "source": [
    "# Tweaking the Model - model optimization through grid search and cross validation\n",
    "# Equivalent of GridSearchCV in sklearn\n",
    "\n",
    "model_to_optimize = RandomForestClassifier()\n",
    "param_grid = ParamGridBuilder().addGrid(model_to_optimize.minInfoGain, [0, 0.5])\\\n",
    "                               .addGrid(model_to_optimize.maxDepth, [3, 5]) \\\n",
    "                               .addGrid(model_to_optimize.numTrees, [20, 30]).build()\n",
    "\n",
    "cv_obj = CrossValidator(estimator = Pipeline(stages=[model_to_optimize]),\n",
    "                        evaluator = MulticlassClassificationEvaluator(metricName='f1'),\n",
    "                        estimatorParamMaps = param_grid,\n",
    "                        numFolds = 3)\n",
    "\n",
    "classification = cv_obj.fit(train_data)\n",
    "predictions = classification.transform(test_data)\n",
    "\n",
    "acc_eval = MulticlassClassificationEvaluator(metricName='accuracy')\n",
    "f1_eval = MulticlassClassificationEvaluator(metricName='f1')"
   ]
  },
  {
   "cell_type": "code",
   "execution_count": 93,
   "metadata": {},
   "outputs": [
    {
     "name": "stdout",
     "output_type": "stream",
     "text": [
      "Model to optimize - RandomForestClassifier_0f82c6b4f062:\n",
      "Accuracy - 0.9744715447154472:\n",
      "F1 score - 0.9741106655335288:\n"
     ]
    }
   ],
   "source": [
    "accuracy = acc_eval.evaluate(predictions.select(col('label'), col('prediction')))\n",
    "f1 = f1_eval.evaluate(predictions.select(col('label'), col('prediction')))\n",
    "\n",
    "print('Model to optimize - {}:'.format(model_to_optimize))\n",
    "print('Accuracy - {}:'.format(accuracy))\n",
    "print('F1 score - {}:'.format(f1))"
   ]
  },
  {
   "cell_type": "code",
   "execution_count": 95,
   "metadata": {},
   "outputs": [
    {
     "name": "stdout",
     "output_type": "stream",
     "text": [
      "Optimized Params - minInfoGain: 0.0\n",
      "Optimized Params - maxDepth: 5\n",
      "Optimized Params - numTrees: 30\n"
     ]
    }
   ],
   "source": [
    "print('Optimized Params - minInfoGain: {}'.format(classification.bestModel.stages[-1]._java_obj.getMinInfoGain()))\n",
    "print('Optimized Params - maxDepth: {}'.format(classification.bestModel.stages[-1]._java_obj.getMaxDepth()))\n",
    "print('Optimized Params - numTrees: {}'.format(classification.bestModel.stages[-1]._java_obj.getNumTrees()))"
   ]
  },
  {
   "cell_type": "code",
   "execution_count": 98,
   "metadata": {},
   "outputs": [
    {
     "data": {
      "text/plain": [
       "SparseVector(6, {0: 0.0117, 1: 0.0033, 2: 0.615, 3: 0.094, 4: 0.0909, 5: 0.1851})"
      ]
     },
     "execution_count": 98,
     "metadata": {},
     "output_type": "execute_result"
    }
   ],
   "source": [
    "# Feature importances\n",
    "classification.bestModel.stages[-1].featureImportances"
   ]
  },
  {
   "cell_type": "markdown",
   "metadata": {},
   "source": [
    "Examining feature importances and correlating the indices to feature vectors (0-gender, 1-level, 2-location_churn, 3-timeSpentMax, 4-user_engagement, 5-time_engage_prod) it is very clear that most of the variance in the data can be explained by the location_churn variable. I suspect that one reason such high accuracy and F1-scores were obtained was because there was some data-leakage in the definition of the location_churn variable. location_churn assigns low, medium and high probability of churn to locations for which churn is already known. Model evaluation is also done on the same data. It is therefore understandable that the predictive accuracy of such a model may be high. IF there is a case to be made for the inclusion of such a variable it is this - by itself, location_churn describes with nearly 60% chance if a person will churn or not. While this insight may strictly not be applicable to a predictive model, it is perfectly fine to use it as a predictive heuristic since it is giving such good insight into probability of churn.\n",
    "\n",
    "All the above being said, it is useful to see how the exclusion of 'location_churn' impact the overall accuracy and F1-score of the models in question"
   ]
  },
  {
   "cell_type": "code",
   "execution_count": 54,
   "metadata": {},
   "outputs": [],
   "source": [
    "# Perform the same analysis as above without the location variable\n",
    "df_features_no_loc = df_features.select(col('gender').alias('gender'),\n",
    "                                 col('level').alias('level'),\n",
    "                                 col('timeSpentMax').alias('timeSpentMax'),\n",
    "                                 col('user_engagement').alias('user_engagement'),\n",
    "                                 col('time_engage_prod').alias('time_engage_prod'),\n",
    "                                 col('label').alias('label'))\n",
    "\n",
    "features_no_location = VectorAssembler(inputCols=['gend_idx',\n",
    "                                          'level_idx',\n",
    "                                          'timeSpentMax',\n",
    "                                          'user_engagement',\n",
    "                                          'timeSpentMax'],\n",
    "                           outputCol='features')\n",
    "\n",
    "features_pipeline = Pipeline(stages=[gender_index, level_index, features_no_location])\n",
    "\n",
    "df_model = features_pipeline.fit(df_features_no_loc).transform(df_features_no_loc)\n",
    "\n",
    "# Convert sparse vector data to dense\n",
    "df_sparse = df_model.select(\"label\", \"features\")\n",
    "rdd = df_sparse.rdd.map(lambda x: Row(label=x[0],features=DenseVector(x[1].toArray())))\n",
    "ml_data = spark.createDataFrame(rdd)\n",
    "\n",
    "# Create training and evaluation (test) data\n",
    "train_data, test_data = ml_data.randomSplit([0.8, 0.2], seed=1234)"
   ]
  },
  {
   "cell_type": "code",
   "execution_count": 101,
   "metadata": {},
   "outputs": [
    {
     "name": "stdout",
     "output_type": "stream",
     "text": [
      "Model: LogisticRegression_423b56b80b4b, Test Accuracy: 84.4842%, Test F-1 score: 78.2080%, time required for fitting and evaluation: 210.55741262435913 seconds\n",
      "Model: RandomForestClassifier_61d83ea4a80c, Test Accuracy: 93.4146%, Test F-1 score: 93.1032%, time required for fitting and evaluation: 281.64555525779724 seconds\n",
      "Model: GBTClassifier_b2b499913ce9, Test Accuracy: 99.1346%, Test F-1 score: 99.1257%, time required for fitting and evaluation: 572.8960864543915 seconds\n"
     ]
    }
   ],
   "source": [
    "# Loop through model types and evaluate\n",
    "model_type_list = ['logistic', 'random forest', 'gradient boosting']\n",
    "\n",
    "for model_type in model_type_list:\n",
    "    train_evaluate_default_model(model_type=model_type,test_data=test_data,train_data=train_data)"
   ]
  },
  {
   "cell_type": "code",
   "execution_count": 55,
   "metadata": {
    "scrolled": false
   },
   "outputs": [
    {
     "name": "stdout",
     "output_type": "stream",
     "text": [
      "Model: RandomForestClassifier_2b80c83756f1, Test Accuracy: 93.8717%, Test F-1 score: 93.6205%, time required for fitting and evaluation: 298.13997769355774 seconds\n"
     ]
    }
   ],
   "source": [
    "model = train_evaluate_default_model(train_data=train_data,test_data=test_data,model_type='random forest')"
   ]
  },
  {
   "cell_type": "code",
   "execution_count": 56,
   "metadata": {},
   "outputs": [
    {
     "data": {
      "text/plain": [
       "SparseVector(5, {0: 0.0364, 1: 0.0022, 2: 0.318, 3: 0.2626, 4: 0.3807})"
      ]
     },
     "execution_count": 56,
     "metadata": {},
     "output_type": "execute_result"
    }
   ],
   "source": [
    "model.featureImportances"
   ]
  },
  {
   "cell_type": "markdown",
   "metadata": {},
   "source": [
    "The variance in the data is almost entirely (~97% of 93%) explained by 'timeSpentMax','user_engagement' and 'time_engage_prod' features. In spite of being a fairly simple model with only 5 variables, the model has an F1-score of nearly 93%. In terms of interpretability, the main three features indicate that a user's churn behaviour can almost entirely be described by the net time spent on the platform and the total number of interactions had on the platform. The <i>a priori</i> intuition from exploratory analysis, confirmed by the modeling was that if both are low, the user is likely to churn. If both are high, a user is unlikely to churn. If either one is high and the other low then the specifics of how high or low either is begins to matter - for instance if a user engages strongly with the platform in a relatively short duration, the user may be less likely to churn than a user who spends a large amount of time on the platform but engages minimally."
   ]
  },
  {
   "cell_type": "markdown",
   "metadata": {},
   "source": [
    "# Conclusion\n",
    "\n",
    "Sparkify user churn behavior was shown to be strongly dependent on the net time spent on the platform and the number of interactions had by the user in that time. A F1-score metric of close to 93% was attained by the Random Forest Classifier with default parameters on test data. Parameter  tuning (limited, due to execution time constraints) improved performance, but insignificantly.\n",
    "\n",
    "The markers of user behavior and their interaction with the product are fairly intuitive in hindsight, but it is helpful that the modeling seems to confirm such an insight. The feature set that leaked churn data into features used for machine learning was discarded in favor of the feature set with just 5 features - gender, payment level, time spent on the platform, user engagement and the product of engagement and time spent.\n",
    "\n",
    "While the performance metrics obtained were extremely satisfactory for a fairly basic model, a number of modifications can be thought of. In this sense, the present effort should be thought of as preliminary. An analysis based on user usage pattern would be quite interesting to undertake and potentially useful. For instance a probabilistic analysis of whether a user might churn given the behavior of similar users may be very useful. Also, I have limited myselfto a analysis of a subset of the data due to time constraints, but a true big-data approach to the problem may also be useful to undertake, if only to see if the simple model and insight in the present effort scales to larger amounts of data.\n",
    "\n",
    "At the attained level of performance, it seems un-necessary to involve more complicated learning algorithms. Even a simple Random Forest classifier seems to provide reasonable performance metrics. A more thorough analysis of learning algorithm suitability would involve an exploration of the trade-offs in play. For instance, is it worth it to use a Gradient boosted classifier with 2-3% improved accuracy at the cost of nearly double training time and prediction time? What is the net-revenue add from this improved performance? These are questions of business relevance that can have an impact on model decisions. If a significant improvement in revenue results from the added 3-5% improvement in performance from Gradient boosting and the time for prediction can be cut down significantly (presumably when truly distributed), then gradient boosting is clearly the better choice.\n",
    "\n",
    "The insight regarding location and its relevance to predicting churn must also be highlighted - while I eventually discarded this feature, the feature gave some revealing insights - some locations experienced 100% churn and others experienced zero. I would not have expected such a large number of locations to show extremes. Perhaps this has to do with the fact that the dataset is synthetic, but it would be interesting to know if such an extreme distribution exists in reality. Such information could be of potential use for a customer database that is geographically confined - for  instance if the list of locations does not expand beyond what is already present, such information can be used fruitfully to incentivize users in high-churn locations. Alternately, a cost-benefit analysis might conclude that particular locations are not worth incentivizing due to low overall revenue.\n",
    "\n",
    "On a personal level, my familiarity and comfort with Pandas, coupled with its ease of use and execution speed for small datasets made my learning curve for PySpark fairly steep. The power of Spark would probably show up in larger datasets and spinning-up a Spark cluster to see this power in action is something I hope to do soon."
   ]
  },
  {
   "cell_type": "code",
   "execution_count": null,
   "metadata": {},
   "outputs": [],
   "source": []
  }
 ],
 "metadata": {
  "kernelspec": {
   "display_name": "Python 3",
   "language": "python",
   "name": "python3"
  },
  "language_info": {
   "codemirror_mode": {
    "name": "ipython",
    "version": 3
   },
   "file_extension": ".py",
   "mimetype": "text/x-python",
   "name": "python",
   "nbconvert_exporter": "python",
   "pygments_lexer": "ipython3",
   "version": "3.6.3"
  }
 },
 "nbformat": 4,
 "nbformat_minor": 2
}
